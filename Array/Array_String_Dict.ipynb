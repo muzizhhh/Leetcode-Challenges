{
 "cells": [
  {
   "cell_type": "markdown",
   "metadata": {},
   "source": [
    "# 11. Container With Most Water\n"
   ]
  },
  {
   "cell_type": "markdown",
   "metadata": {},
   "source": [
    "<双指针>\n",
    "\n",
    "如果纯暴力计算两两之间的面积，时间复杂度是O(N^2)，肯定会超时。\n",
    "\n",
    "一个比较好的解决的方法是，使用双指针方法，一个从最左边开始，一个从最右边开始，计算两个挡板之间的面积，然后在向中间移动。移动的规则是这样的，如果哪个挡板比较矮，就舍弃掉这个挡板，把指向这个挡板的指针向中间移动。\n",
    "\n",
    "这样的移动方式是我们每次都保留了比较长的哪个挡板，也就能获得更多的水。当两个挡板的高度一样的话，移动任意一个即可，因为这两个是高度一样的挡板，如果中间有更高的挡板，那么当前的挡板决定了以后的挡板的最低值，也就是说以其中任意一个为边界的容器面积不可能超过当前的当前的值。\n",
    "\n",
    "我们在遍历的过程中需要保留遍历时候得到的最大值，最后返回即可。\n",
    "\n",
    "时间复杂度是O(N)，空间复杂度是O(1).\n"
   ]
  },
  {
   "cell_type": "code",
   "execution_count": 50,
   "metadata": {},
   "outputs": [],
   "source": [
    "\"\"\"\n",
    "class Solution(object):\n",
    "    def maxArea(self, height):\n",
    "        i = 0\n",
    "        j = len(height)-1\n",
    "\n",
    "        if len(height) > 2:\n",
    "            area = []\n",
    "            while i < j:\n",
    "                if height[i] > height[j]:\n",
    "                    print(i,j)\n",
    "                    area.append(height[j] * (j-i))\n",
    "                    j -= 1\n",
    "                else:\n",
    "                    print(i,j)\n",
    "\n",
    "                    area.append(height[i] *(j-i))\n",
    "                    i += 1\n",
    "            res = max(area)\n",
    "\n",
    "        else:\n",
    "            res = min(height[i],height[j])*1\n",
    "\n",
    "        return res\n",
    "\n",
    "\"\"\""
   ]
  },
  {
   "cell_type": "code",
   "execution_count": 82,
   "metadata": {},
   "outputs": [],
   "source": [
    "\n",
    "def maxArea(height):\n",
    "    \"\"\"\n",
    "    :type height: List[int]\n",
    "    :rtype: int\n",
    "    \"\"\"\n",
    "    res = 0\n",
    "    l = 0\n",
    "    r = len(height)-1\n",
    "    \n",
    "    while l < r:\n",
    "        res = max(res,min(height[l],height[r])*(r-l))\n",
    "        if height[l] < height[r]:\n",
    "            l += 1\n",
    "        else:\n",
    "            r -= 1\n",
    "    return res"
   ]
  },
  {
   "cell_type": "code",
   "execution_count": 83,
   "metadata": {},
   "outputs": [
    {
     "data": {
      "text/plain": [
       "49"
      ]
     },
     "execution_count": 83,
     "metadata": {},
     "output_type": "execute_result"
    }
   ],
   "source": [
    "height = [1,8,6,2,5,4,8,3,7]\n",
    "maxArea(height)\n"
   ]
  },
  {
   "cell_type": "code",
   "execution_count": null,
   "metadata": {},
   "outputs": [],
   "source": []
  },
  {
   "cell_type": "code",
   "execution_count": null,
   "metadata": {},
   "outputs": [],
   "source": []
  },
  {
   "cell_type": "code",
   "execution_count": null,
   "metadata": {},
   "outputs": [],
   "source": []
  }
 ],
 "metadata": {
  "kernelspec": {
   "display_name": "Python 3",
   "language": "python",
   "name": "python3"
  },
  "language_info": {
   "codemirror_mode": {
    "name": "ipython",
    "version": 3
   },
   "file_extension": ".py",
   "mimetype": "text/x-python",
   "name": "python",
   "nbconvert_exporter": "python",
   "pygments_lexer": "ipython3",
   "version": "3.7.3"
  }
 },
 "nbformat": 4,
 "nbformat_minor": 2
}
