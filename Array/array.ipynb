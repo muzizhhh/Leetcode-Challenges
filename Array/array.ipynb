{
 "cells": [
  {
   "cell_type": "markdown",
   "metadata": {},
   "source": [
    "##  <font color='red'>LC_1. Two Sum</font> "
   ]
  },
  {
   "cell_type": "markdown",
   "metadata": {},
   "source": [
    "#### Soluation 1 ----- Brute Force \n",
    "内外两个循环找和为target的两个数字\n",
    "\n",
    "@ TC: O(n^2) ----- two loops with outer and inner loop  \n",
    "@ SC: O(1)\n",
    "\n",
    "Note:\n",
    "\n",
    "-- don't use list.index() for input like [3,3]"
   ]
  },
  {
   "cell_type": "code",
   "execution_count": 1,
   "metadata": {},
   "outputs": [],
   "source": [
    "def twoSum(nums, target):\n",
    "    for i in range(len(nums)):     \n",
    "        num1 = nums[i]\n",
    "        num2 = target - num1\n",
    "        if num2 in nums[i+1:]:\n",
    "            results = [i,i+nums[i+1:].index(num2)+1]  # using list.index(value)  \n",
    "    return results\n",
    "\n",
    "def twoSum(nums, target):\n",
    "    for i in range(len(nums)-1):     \n",
    "        num2 = target - nums[i]\n",
    "        for j in range(i+1,len(nums)):                 # two loops\n",
    "            if nums[j] == num2:\n",
    "                return [i,j]"
   ]
  },
  {
   "cell_type": "markdown",
   "metadata": {},
   "source": [
    "#### Soluation 2 -----Hash Map \n",
    "哈希表，每遍历到一个元素num，看target-num是否在hash表中，如果在就得出答案，如果不在就将当前num放入哈希表中\n",
    "\n",
    "1. Create a hashmap which accepts integer datatype as key and value.\n",
    "\n",
    "2. Iterate through each element in the given array starting from the first element.\n",
    "\n",
    "3. In each iteration check if required number (required  number = target sum - current number) is present in the hashmap.\n",
    "\n",
    "4. If present, return {required number index, current number index} as  result.\n",
    "\n",
    "5. Otherwise add the current iteration number as key and its index as value to the hashmap. Repeat this  until you find the result.\n",
    "\n",
    "reference: https://www.code-recipe.com/post/two-sum\n",
    "\n",
    "\n",
    "@ TC: O(n) ----- only loop one time through input list\n",
    "\n",
    "@ SC: O(n) ----- need extra O(n) space for the hash map\n",
    "\n"
   ]
  },
  {
   "cell_type": "code",
   "execution_count": 2,
   "metadata": {},
   "outputs": [],
   "source": [
    "def twoSum(nums, target):\n",
    "    seen = {}      # create the hash map to save the seen number : index\n",
    "    for i, num1 in enumerate(nums):\n",
    "        num2 = target - num1\n",
    "        if num2 in seen:  \n",
    "            return [i,seen[num2]]\n",
    "        else:\n",
    "            seen[num1] = i"
   ]
  },
  {
   "cell_type": "markdown",
   "metadata": {},
   "source": [
    "## <font color='red'>LC_121 Best Time to Buy and Sell Stock (E)</font> \n",
    "\n",
    "\n",
    "@ clearify: a) profit >= 0 ; b) has repeated stock. \n",
    "\n",
    "@ logics: find all possible pairs to achieve the max profit. "
   ]
  },
  {
   "cell_type": "markdown",
   "metadata": {},
   "source": [
    "#### Brute Force\n",
    "\n",
    "TC: O(n^2)   -- two loops\n",
    " \n",
    "SC: O(1)"
   ]
  },
  {
   "cell_type": "code",
   "execution_count": 5,
   "metadata": {},
   "outputs": [
    {
     "data": {
      "text/plain": [
       "8"
      ]
     },
     "execution_count": 5,
     "metadata": {},
     "output_type": "execute_result"
    }
   ],
   "source": [
    "def maxProfit(prices):\n",
    "    \n",
    "    result = 0       # minimum profit == 0\n",
    "    for i in range(len(prices)-1):\n",
    "        for j in range(i+1, len(prices)):\n",
    "            if prices[j] > prices[i]:\n",
    "                result = max(result, prices[j]-prices[i]) \n",
    "            \n",
    "    return result\n",
    "\n",
    "\n",
    "\n",
    "prices = [7,1,5,9,6,4]\n",
    "# prices = [7,6,4,3,1]\n",
    "maxProfit(prices)"
   ]
  },
  {
   "cell_type": "markdown",
   "metadata": {},
   "source": [
    "#### Two pointers\n",
    "\n",
    "left pointer(LP) --> lowest price\n",
    "right poiner(RP) --> current price\n",
    "\n",
    "if lower price(RP) appears, update left pointer of lowest price. if higher price (RP) appears, update the max profit. \n",
    "\n",
    "TC --> O(n) \n",
    "SC --> O(1)"
   ]
  },
  {
   "cell_type": "code",
   "execution_count": 31,
   "metadata": {},
   "outputs": [
    {
     "data": {
      "text/plain": [
       "8"
      ]
     },
     "execution_count": 31,
     "metadata": {},
     "output_type": "execute_result"
    }
   ],
   "source": [
    "def maxProfit(prices):\n",
    "    lowest = prices[0]              # use the first price as the lowest or use float(inf) and make j in (0,len(prices))\n",
    "    max_profit = 0                  # minimum profit\n",
    "    for j in range(1,len(prices)):\n",
    "        curr = prices[j]\n",
    "        if curr < lowest:\n",
    "            lowest = curr\n",
    "        else:\n",
    "            max_profit = max(max_profit, curr-lowest)\n",
    "    return max_profit\n",
    "\n",
    "\n",
    "\n",
    "prices = [7,1,5,9,6,4]\n",
    "# prices = [7,6,4,3,11]\n",
    "# prices = [2,4,1]\n",
    "maxProfit(prices)"
   ]
  },
  {
   "cell_type": "markdown",
   "metadata": {},
   "source": [
    "#### dynamic programming (DP) ??\n",
    "https://github.com/youngyangyang04/leetcode-master/blob/master/problems/0121.%E4%B9%B0%E5%8D%96%E8%82%A1%E7%A5%A8%E7%9A%84%E6%9C%80%E4%BD%B3%E6%97%B6%E6%9C%BA.md\n",
    "    \n",
    "\n",
    "TC --> O(n) \n",
    "SC --> O(n)"
   ]
  },
  {
   "cell_type": "markdown",
   "metadata": {},
   "source": [
    "## <font color='red'>169. Majority Element (E)</font>  \n",
    "\n"
   ]
  },
  {
   "cell_type": "code",
   "execution_count": 2,
   "metadata": {},
   "outputs": [
    {
     "ename": "SyntaxError",
     "evalue": "invalid syntax (<ipython-input-2-e06d9f038c57>, line 2)",
     "output_type": "error",
     "traceback": [
      "\u001b[1;36m  File \u001b[1;32m\"<ipython-input-2-e06d9f038c57>\"\u001b[1;36m, line \u001b[1;32m2\u001b[0m\n\u001b[1;33m    @ logic: find baseline [n/2] --> what if n=1, such as [3] --> what if n=2 such as [3,4] will have two majority elements\u001b[0m\n\u001b[1;37m           ^\u001b[0m\n\u001b[1;31mSyntaxError\u001b[0m\u001b[1;31m:\u001b[0m invalid syntax\n"
     ]
    }
   ],
   "source": [
    "@ clarify: even? odd? [n/2]? size n>=1? how about [2,3]? only one majority element? \n",
    "@ logic: find baseline [n/2] --> \n",
    "            what if n=1, such as [3] --> what if n=2 such as [3,4] will have two majority elements \n",
    "                --> hashmap dict{} to record every unique number (key) and its appear times (value)\n",
    "                    --> return the number with max hashmap value \n",
    "            \n",
    "@ Note: no base case like [1]\n",
    "        "
   ]
  },
  {
   "cell_type": "markdown",
   "metadata": {},
   "source": [
    "### Sort and return the median number\n",
    "\n",
    "(appears more than [n/2]，then the median number == the majority element\n",
    "\n",
    "@ TC: O(nlog)   # sorting--> O(nlog)\n",
    "\n",
    "@ SC: O(1)   sort \"nums\" in place \n",
    "\n",
    "      O(n)   spend linear additional space on a copy of \"nums\" and sort the copy instead. "
   ]
  },
  {
   "cell_type": "code",
   "execution_count": 3,
   "metadata": {},
   "outputs": [],
   "source": [
    "def majorityElement(nums):\n",
    "    nums = sorted(nums)\n",
    "    median_num = len(nums)/2\n",
    "    return median_num"
   ]
  },
  {
   "cell_type": "markdown",
   "metadata": {},
   "source": [
    "### hashmap to count element occurrences"
   ]
  },
  {
   "cell_type": "markdown",
   "metadata": {},
   "source": [
    "maps elements to counts in order to count occurrences in linear time by looping over nums\n",
    "\n",
    "@ TC: O(n)  only iterate once\n",
    "    \n",
    "@ SC: O(n)  contain n-[n/2] associations"
   ]
  },
  {
   "cell_type": "code",
   "execution_count": null,
   "metadata": {},
   "outputs": [],
   "source": [
    "def majorityElement(nums):\n",
    "    counts_dict = collections.Counter(nums)\n",
    "        \n",
    "    #using max(iterable, key=dict.get)\n",
    "    return max(counts_dict.keys(), key=counts_dict.get)"
   ]
  },
  {
   "cell_type": "markdown",
   "metadata": {},
   "source": [
    "### Divided and Conquer  ???\n"
   ]
  },
  {
   "cell_type": "markdown",
   "metadata": {},
   "source": [
    "### Boyer-Moore Voting Algorithm\n",
    "Essentially, what Boyer-Moore does is look for a suffix sufsuf of nums where suf[0]suf[0] is the majority element in that suffix. To do this, we maintain a count, which is incremented whenever we see an instance of our current candidate for majority element and decremented whenever we see anything else. Whenever count equals 0, we effectively forget about everything in nums up to the current index and consider the current number as the candidate for majority element. It is not immediately obvious why we can get away with forgetting prefixes of nums - consider the following examples (pipes are inserted to separate runs of nonzero count).\n",
    "\n",
    "[7, 7, 5, 7, 5, 1 | 5, 7 | 5, 5, 7, 7 | 7, 7, 7, 7]\n",
    "\n",
    "@ TC: O(n)   run linear time\n",
    "\n",
    "@ SC: O(1)   only constant additional memory"
   ]
  },
  {
   "cell_type": "code",
   "execution_count": 41,
   "metadata": {},
   "outputs": [],
   "source": [
    "def majorityElement(nums) -> int:\n",
    "    result = nums[0]\n",
    "    count = 1    # it the sum of the count goes back to 0, update the majority element\n",
    "    for i in range(1,len(nums)):\n",
    "        if nums[i] == result:      #compare with the majority element\n",
    "            count += 1\n",
    "        else:\n",
    "            count -= 1\n",
    "        if count == 0:\n",
    "            result = nums[i+1]\n",
    "            count = 0\n",
    "\n",
    "    return result"
   ]
  },
  {
   "cell_type": "code",
   "execution_count": 42,
   "metadata": {},
   "outputs": [],
   "source": [
    "# optimized\n",
    "def majorityElement(self, nums):\n",
    "        count = 0\n",
    "        candidate = None\n",
    "\n",
    "        for num in nums:\n",
    "            if count == 0:\n",
    "                candidate = num\n",
    "            count += (1 if num == candidate else -1)\n",
    "\n",
    "        return candidate"
   ]
  },
  {
   "cell_type": "markdown",
   "metadata": {},
   "source": [
    "### Bit Manipulation ???\n",
    "Bit Manipulation）既然存在所谓大量元素，那么倘若我们将所有的数写成二进制，每个数写一行进行位对齐，那么每一位出现最多的0或1就是大量元素在该位的值。基于这个想法，考虑到题目说的是整数（32位），我们可以统计每一位出现次数最多的0或1，组合即得。\n",
    "需要注意的是，因为Python对于整数的处理太过方便，当LeetCode的测试程序给出负数（即最高位为1的32位整数）时，用Python进行位处理最终得到的却是正数，所以需要对负数做特殊处理。\n"
   ]
  },
  {
   "cell_type": "markdown",
   "metadata": {},
   "source": [
    "### Moore Voting Algorithm\n",
    "每次都找出一对不同的元素，从数组中删掉，直到数组为空或只有一种元素。 不难证明，如果存在元素e出现频率超过半数，那么数组中最后剩下的就只有e。"
   ]
  },
  {
   "cell_type": "code",
   "execution_count": 40,
   "metadata": {},
   "outputs": [
    {
     "name": "stdout",
     "output_type": "stream",
     "text": [
      "0 3\n",
      "0 3\n",
      "1 3\n"
     ]
    },
    {
     "data": {
      "text/plain": [
       "3"
      ]
     },
     "execution_count": 40,
     "metadata": {},
     "output_type": "execute_result"
    }
   ],
   "source": [
    "majorityElement([3,2,3])"
   ]
  },
  {
   "cell_type": "markdown",
   "metadata": {},
   "source": [
    "## <font color='red'>57. Insert Interval(M)</font> \n",
    "https://leetcode.com/problems/insert-interval/\n",
    "\n",
    "You are given an array of non-overlapping intervals intervals where intervals[i] = [starti, endi] represent the start and the end of the ith interval and intervals is sorted in ascending order by starti. You are also given an interval newInterval = [start, end] that represents the start and end of another interval.Insert newInterval into intervals such that intervals is still sorted in ascending order by starti and intervals still does not have any overlapping intervals (merge overlapping intervals if necessary).Return intervals after the insertion."
   ]
  },
  {
   "cell_type": "markdown",
   "metadata": {},
   "source": [
    "@ clarify: \n",
    "        1. only one new interval?\n",
    "        2. Base case --> empty intervals?\n",
    "           \n",
    "@ logic: \n",
    "         1. if new_interval.start > interval.end ==> add interval to  \"left\" list\n",
    "         2. if new_interval.end < interval.start ==> add interval to \"right\" list\n",
    "         3. otherwise, there is overlap between the interval and new_interval, update the new interval with larger range.\n",
    "         4. left + new interval + right\n",
    "@ O(n), O(n)"
   ]
  },
  {
   "cell_type": "code",
   "execution_count": 50,
   "metadata": {},
   "outputs": [],
   "source": [
    "#\"144ms\" \n",
    "\n",
    "def insert(intervals, newInterval):\n",
    "    result = []\n",
    "\n",
    "    if len(intervals) == 0:\n",
    "        return [newInterval]\n",
    "\n",
    "    for i in range(len(intervals)):\n",
    "        new_start,new_end = newInterval[0],newInterval[1]\n",
    "\n",
    "        start,end = intervals[i][0], intervals[i][1]\n",
    "\n",
    "        if new_start > end:                       # new start > end ==> interval, new_interval\n",
    "            result.append([start,end])              \n",
    "        elif new_end < start:                     # new end < start  ==> new_interval, interval ==> only one new_interval being added thus return the result\n",
    "            result.append([new_start,new_end])\n",
    "            return result + intervals[i:]    \n",
    "        else:\n",
    "            newInterval = [min(start,new_start),max(end,new_end)]    # updated new interval\n",
    "    result.append(newInterval)\n",
    "    return result  "
   ]
  },
  {
   "cell_type": "code",
   "execution_count": null,
   "metadata": {},
   "outputs": [],
   "source": [
    "class Solution(object):\n",
    "    def insert(self, intervals, newInterval):\n",
    "        left, right= [],[]\n",
    "        for interval in intervals:\n",
    "            if newInterval[1] < interval[0]:\n",
    "                right.append(interval)\n",
    "            elif newInterval[0] > interval[1]:\n",
    "                left.append(interval)\n",
    "            else:                                       #overlap\n",
    "                newInterval = [min(interval[0],newInterval[0]),max(interval[1],newInterval[1])]\n",
    "        return left + [newInterval] + right"
   ]
  },
  {
   "cell_type": "markdown",
   "metadata": {},
   "source": [
    "## <font color='red'>15. 3Sum(M) </font> "
   ]
  },
  {
   "cell_type": "markdown",
   "metadata": {},
   "source": [
    "**clarify**:  \n",
    "1. edge case --> empty array\n",
    "2. no duplicate triplets\n",
    "\n",
    "**logics**:\n",
    "* Brute force: loop three times 0(n^3) ---> TLE\n",
    "* Sort + Two Pointer: ===> total three pointers\n",
    "  1. Sort the array for accending order;\n",
    "  2. iterate the sorted array with the first pointer;\n",
    "  3. set up left and right pointers after the first pointer: \n",
    "\t\t\t\t\t\t~ left pointer = first pointer + 1\n",
    "\t\t\t\t\t\t~ right pointer = last index of the sorted array\n",
    "  4. keep the first pointer and right pointer not moving, move the left pointer right -->\n",
    "  5. If the sum == 0, then add to the list of result;\n",
    "  6. If the sum < 0, move left pointer right --> (to increase the sum);\n",
    "\t\t\tIf the sum > 0, move right pointer left <-- (reduce the sum) ;\n",
    "  7. make sure no duplicate triplets:\n",
    "\t\t\t~ first pointer value != previous value: nums[i] != nums[i-1] and i >0 \n",
    "\t\t\t~ left and third pointers, same\n",
    "  8. make it faster:\n",
    "            ~ when first point value > 0, then break and return results. ===> sorted array and the values behind 0                        would always larger than 0. \n",
    "\n",
    "Be careful:\n",
    "    1. for case [0,0,0,0]\n",
    "\n",
    "**TC & SC**: O(n^2) and O(n)\n",
    "\t\t\n",
    "**reference**:\t\n",
    "https://www.youtube.com/watch?v=hNRS81I1OZ8\t\t"
   ]
  },
  {
   "cell_type": "code",
   "execution_count": null,
   "metadata": {},
   "outputs": [],
   "source": [
    "class Solution:\n",
    "    def threeSum(self, nums: List[int]) -> List[List[int]]:\n",
    "        res = []\n",
    "        nums = sorted(nums)              # sort \n",
    "        for i in range(len(nums)-2):     # first pointer\n",
    "            l = i + 1                    # left pointer\n",
    "            r = len(nums)-1              # right pointer\n",
    "            \n",
    "            if nums[i] > 0:        # no need to conitune since the first pointer value > 0\n",
    "                break              # all values behind it would always make the sum larger than 0. stop and return result  \n",
    "            \n",
    "            #remove duplicates for first pointers\n",
    "            if nums[i] == nums[i-1] and i>0:   \n",
    "                    continue\n",
    "            while l < r:                \n",
    "                s = nums[i] + nums[l] + nums[r]   # sum of the triplet\n",
    "                if s == 0:\n",
    "                    res.append([nums[i], nums[l], nums[r]])\n",
    "                    l += 1\n",
    "                    r -= 1\n",
    "                    # avoid duplicate for left and right pointers\n",
    "                    while l< r and nums[l-1] == nums[l]:\n",
    "                        l += 1\n",
    "                    while l < r and nums[r+1] == nums[r]:\n",
    "                        r -= 1     \n",
    "                elif s < 0:\n",
    "                    l += 1\n",
    "                else:\n",
    "                    r -= 1\n",
    "        return res\n",
    "                      "
   ]
  },
  {
   "cell_type": "markdown",
   "metadata": {},
   "source": [
    "## <font color='red'>238. Product of Array Except Self (M) </font> "
   ]
  },
  {
   "cell_type": "markdown",
   "metadata": {},
   "source": [
    "**clarify**\n",
    "1. can't use division operation uisng the productr of all the elements/each number\n",
    "2. O(n) time\n",
    "3. length of nums >=2\n",
    "\n",
    "**logics**\n",
    "* brute force --> O(n^2)\n",
    "* (left range) current number | (right range)  ==> for each current num, left range * right range:\n",
    "\n",
    "  nums  = [1,  2,  3, 4] \n",
    "  \n",
    "  left  = [1,  1,  2, 6]  <==1, 1 * 1,  2 * 1, 3 * 2        #cum products from left to right\n",
    "  \n",
    "   right = [24, 12, 4, 1] <== 2 * 12，3 * 4 , 4 * 1，1  # cum products writing from right to left\n",
    "   \n",
    "   result= [24, 12, 8, 6] \n",
    " \n",
    " **TC & SC**：  O(n), O(n)\n"
   ]
  },
  {
   "cell_type": "code",
   "execution_count": null,
   "metadata": {},
   "outputs": [],
   "source": [
    "class Solution:\n",
    "    def productExceptSelf(self, nums: List[int]) -> List[int]:\n",
    "        # O(n) time\n",
    "        \n",
    "        length = len(nums)\n",
    "        left, right, result = [1]*length, [1]*length, [1]*length    # instead of left[0], right[-1] = 1, 1\n",
    "       \n",
    "        for i in range(1,length):\n",
    "            left[i] = nums[i-1] * left[i-1]   # cumulative products\n",
    "        \n",
    "        for j in range(length-2, -1, -1):     #***\n",
    "            right[j] = nums[j+1] * right[j+1]\n",
    "            \n",
    "        result = [left[x]*right[x] for x in range(length)]             # result = left * right\n",
    "        \n",
    "        return result            "
   ]
  },
  {
   "cell_type": "markdown",
   "metadata": {},
   "source": [
    "## <font color='red'>217. Contains Duplicate (E) </font> \n",
    "\n",
    "Note: 如果是要求出现3次或多次，就用字典。"
   ]
  },
  {
   "cell_type": "code",
   "execution_count": 7,
   "metadata": {},
   "outputs": [],
   "source": [
    "class Solution:\n",
    "    def containsDuplicate(nums):\n",
    "        \n",
    "        #1.HashMap API Counter --> O(n) & O(n) --> 561ms\n",
    "        \"\"\"\n",
    "        count = collections.Counter(nums)\n",
    "        return max(list(count.values()))>1\n",
    "        #return count.most_common(1)[0][1] > 1\n",
    "        \"\"\"\n",
    "        \n",
    "        #2.ArrayList --> O(n^2) & O(n）--> TLE\n",
    "        \"\"\"\n",
    "        unique_list = [nums[0]]\n",
    "        for i in range(1,len(nums)):\n",
    "            if nums[i] in unique_list:\n",
    "                return True\n",
    "            unique_list.append(nums[i])\n",
    "        return False\n",
    "        \"\"\"\n",
    "        \n",
    "        #3.Sort --> O(nlgn) & O(n) --> 651ms\n",
    "        \"\"\"\n",
    "        nums = sorted(nums)\n",
    "        return any(nums[i+1]==nums[i] for i in range(len(nums)-1))\n",
    "        \"\"\"\n",
    "        \n",
    "        # using set()  O(n) & O(n) --> 507ms\n",
    "        return len(nums) > len(set(nums))        \n",
    "        "
   ]
  },
  {
   "cell_type": "markdown",
   "metadata": {},
   "source": [
    "# Recursive + backtracking"
   ]
  },
  {
   "cell_type": "markdown",
   "metadata": {},
   "source": [
    "## <font color='red'>39. Combination Sum (M) </font> \n",
    "ref: \n",
    "\n",
    "https://www.bilibili.com/video/BV1KT4y1M7HJ  带你学透回溯算法-组合总和（对应「leetcode」力扣题目：39.组合总和"
   ]
  },
  {
   "cell_type": "markdown",
   "metadata": {},
   "source": [
    "### dfs + backtracking\n",
    "\n",
    "TC: exponenial times O(2^n??)"
   ]
  },
  {
   "cell_type": "code",
   "execution_count": null,
   "metadata": {},
   "outputs": [],
   "source": [
    "class Solution(object):\n",
    "    def combinationSum(self, candidates, target):\n",
    "                \n",
    "        candidates = sorted(candidates)\n",
    "        res = []\n",
    "        \n",
    "        def bt(index, candidates, target, path):\n",
    "            if target==0:\n",
    "                res.append(path[:])\n",
    "                return \n",
    "            elif target < 0:\n",
    "                return\n",
    "            else:\n",
    "                for i in range(index, len(candidates)):\n",
    "                    path.append(candidates[i])\n",
    "                    bt(i, candidates, target-candidates[i],path)\n",
    "                    path.pop()\n",
    "        bt(0, candidates, target, [])\n",
    "        return res\n",
    "                    "
   ]
  },
  {
   "cell_type": "markdown",
   "metadata": {},
   "source": [
    "### dfs + backtracking + 剪枝"
   ]
  },
  {
   "cell_type": "code",
   "execution_count": null,
   "metadata": {},
   "outputs": [],
   "source": [
    "class Solution(object):\n",
    "    def combinationSum(self, candidates, target):\n",
    "\n",
    "        candidates = sorted(candidates)\n",
    "        res = []\n",
    "        \n",
    "        def bt(index, candidates, target, path):\n",
    "            if target==0:\n",
    "                res.append(path[:])\n",
    "                return \n",
    "            else:\n",
    "                for i in range(index, len(candidates)):\n",
    "                    if target < candidates[i]:\n",
    "                        return\n",
    "                    path.append(candidates[i])\n",
    "                    bt(i, candidates, target-candidates[i],path)\n",
    "                    path.pop()\n",
    "        bt(0, candidates, target, [])\n",
    "        return res\n",
    "                    "
   ]
  },
  {
   "cell_type": "markdown",
   "metadata": {},
   "source": [
    "### DP\n",
    "\n",
    "O (n*target*average(l))"
   ]
  },
  {
   "cell_type": "code",
   "execution_count": null,
   "metadata": {},
   "outputs": [],
   "source": [
    "class Solution(object):\n",
    "    def combinationSum(self, candidates, target):\n",
    "        \n",
    "        \"\"\"\n",
    "             sub-target (t)\n",
    "        c    0,  1,  2,  3,  4,   5,    6,     7   (target+1)\n",
    "\n",
    "        3   []  []  []  [3]  []   []  [3,3]    []\n",
    "\n",
    "        2   []  []  [2] [] [2,2] [2,3] [2,2,2] [2,2,3]\n",
    "\n",
    "        6   []  []  []  []   []    []   [6]     []\n",
    "\n",
    "        7   []  []  []  []  []     []   []      [7]\n",
    "\n",
    "            res = [[2,2,3],[7]]\n",
    "\n",
    "        \"\"\"\n",
    "\n",
    "        dp = [[] for _ in range(target+1)]\n",
    "\n",
    "        for c in candidates:\n",
    "            for t in range(1, target+1):\n",
    "                if c > t: continue\n",
    "                elif c == t: \n",
    "                    dp[t].append([c])\n",
    "                else:                    \n",
    "                    for l in dp[t-c]:\n",
    "                        dp[t].append([c] + l)\n",
    "        return dp[-1]\n"
   ]
  },
  {
   "cell_type": "markdown",
   "metadata": {},
   "source": [
    "## <font color='red'>40. Combination SumII (M) </font> \n"
   ]
  },
  {
   "cell_type": "markdown",
   "metadata": {},
   "source": [
    "模板变形 --> 每个num只能用一次 --> 搜索树横着不能有duplicates，竖着可以<br>\n",
    "\n",
    "Time Complexity: O(2^N) but labuladong --> O(N!)\n",
    "\n",
    "In the worst case, our algorithm will exhaust all possible combinations from the input array, which in total amounts to 2^N\n",
    "as we discussed before.\n",
    "\n",
    "The sorting will take O(NlogN).\n",
    "\n",
    "To sum up, the overall time complexity of the algorithm is dominated by the backtracking process, which is O(2^N).\n",
    "\n",
    "Space Complexity: O(N)\n",
    "\n",
    "We use the variable comb to keep track of the current combination we build, which requires O(N) space.\n",
    "\n",
    "In addition, we apply recursion in the algorithm, which will incur additional memory consumption in the function call stack. In the worst case, the stack will pile up to O(N) space.\n",
    "\n",
    "To sum up, the overall space complexity of the algorithm is O(N) + O(N) =O(N)."
   ]
  },
  {
   "cell_type": "code",
   "execution_count": null,
   "metadata": {},
   "outputs": [],
   "source": [
    "class Solution(object):\n",
    "    def combinationSum2(self, candidates, target):\n",
    "        candidates = sorted(candidates)\n",
    "        res = []\n",
    "\n",
    "        def bt(index, candidates, target, path):\n",
    "            # base case\n",
    "            if target == 0:\n",
    "                res.append(path[:])\n",
    "                return \n",
    "            \n",
    "            for i in range(index, len(candidates)):                      # i 横着走，index竖着走（bt function)\n",
    "                if target < candidates[i]:                               # 剪枝\n",
    "                    return \n",
    "                if i > index and candidates[i] == candidates[i-1]:       #<Update Here> 保证横着搜，没有duplicates，但竖着可以\n",
    "                    continue                                             # 如果横着有duplicates，跳出for loop循环\n",
    "                path.append(candidates[i])\n",
    "                bt(i+1, candidates, target-candidates[i], path)          #<Update Here> each num only be used once\n",
    "                path.pop()\n",
    "        \n",
    "        bt(0, candidates, target, [])\n",
    "        return res   "
   ]
  },
  {
   "cell_type": "markdown",
   "metadata": {},
   "source": [
    "## <font color='red'>51. N-Queens (H) </font> \n"
   ]
  },
  {
   "cell_type": "code",
   "execution_count": 39,
   "metadata": {},
   "outputs": [
    {
     "name": "stdout",
     "output_type": "stream",
     "text": [
      ".Q..\n"
     ]
    }
   ],
   "source": [
    "class Solution(object):\n",
    "    def solveNQueens(self, n):\n",
    "        \"\"\"\n",
    "        n*n 棋盘，找到放置n个皇后的方法. n=2or3不可行, n >4 才可以.\n",
    "        回溯模板 --> index(=row), i (column) --> 每一行/列只能放一个皇后 -->皇后相互不能攻击（top，topleft,topright)\n",
    "        ？？？整个对角线都不可以？\n",
    "        \"\"\"\n",
    "        board = [[\".\"] * n for _ in range(n)]\n",
    "        res = []\n",
    "        # convert list of board to string board\n",
    "        def generate(board):\n",
    "            str_board = []\n",
    "            for row in board:\n",
    "                str_row = \"\".join(row)\n",
    "                str_board.append(str_row)\n",
    "            return str_board\n",
    "            \n",
    "        # check to make sure no attack \n",
    "        def check(board, row, col):\n",
    "            # 判断同一列，之前的row不能有Q\n",
    "            for i in range(row):            \n",
    "                if board[i][col] == \"Q\":\n",
    "                    return False\n",
    "            # 判断左对角线\n",
    "            i = row-1                         \n",
    "            j = col-1\n",
    "            while i>=0 and j>=0:\n",
    "                if board[i][j] == \"Q\":\n",
    "                    return False\n",
    "                i -= 1\n",
    "                j -= 1\n",
    "            # 判断右对角线\n",
    "            i = row-1                         \n",
    "            j = col+1\n",
    "            while i>=0 and j < n:\n",
    "                if board[i][j] == \"Q\":\n",
    "                    return False\n",
    "                i -= 1\n",
    "                j += 1\n",
    "            return True\n",
    "\n",
    "        def bt(index, board):\n",
    "            # base case\n",
    "            if index == n:\n",
    "                res.append(generate(board))\n",
    "                return\n",
    "            \n",
    "            for i in range(0, n):\n",
    "                # check attack\n",
    "                if check(board,index,i):\n",
    "                    board[index][i] = \"Q\"\n",
    "                    bt(index+1,board)\n",
    "                    board[index][i] = \".\"            # 回溯恢复==pop\n",
    "\n",
    "        bt(0, board)\n",
    "        return res"
   ]
  },
  {
   "cell_type": "code",
   "execution_count": 40,
   "metadata": {},
   "outputs": [
    {
     "name": "stdout",
     "output_type": "stream",
     "text": [
      ".Q..\n"
     ]
    }
   ],
   "source": [
    "temp_str = \"\".join(['.', 'Q', '.', '.'])\n",
    "print(temp_str)"
   ]
  },
  {
   "cell_type": "code",
   "execution_count": 56,
   "metadata": {},
   "outputs": [
    {
     "name": "stdout",
     "output_type": "stream",
     "text": [
      "(1, 3)\n",
      "(2, 1)\n",
      "(4, 6)\n"
     ]
    }
   ],
   "source": [
    "# Heappop() minheap，取得都是smallest element\n",
    "\n",
    "# max heap O(nlogn)  --> [6,4,3,2,2,1,1]\n",
    "import heapq\n",
    "nums =[(1,3),(4,6),(2,1)] \n",
    "h = []\n",
    "for num in nums:\n",
    "    heapq.heappush(h,num)\n",
    "for _ in range(len(h)):\n",
    "    rst = heapq.heappop(h)\n",
    "    print(rst)"
   ]
  },
  {
   "cell_type": "code",
   "execution_count": null,
   "metadata": {},
   "outputs": [],
   "source": [
    "# min heap O(nlogn)  --> [1,1,2,2,3,4,6]\n",
    "import heapq\n",
    "nums =[1,3,4,6,2,1,2] \n",
    "h = []\n",
    "for num in nums:\n",
    "    heapq.heappush(h,num)\n",
    "for _ in range(len(h)):\n",
    "    rst = heapq.heappop(h)\n",
    "    print(rst)"
   ]
  },
  {
   "cell_type": "code",
   "execution_count": null,
   "metadata": {},
   "outputs": [],
   "source": []
  },
  {
   "cell_type": "markdown",
   "metadata": {},
   "source": [
    "## <font color='red'>283. Move Zeroes (E) </font> "
   ]
  },
  {
   "cell_type": "markdown",
   "metadata": {},
   "source": [
    "### two pointers  \n",
    "\n",
    "O(n) & O(1)\n",
    "\n",
    "left pointer i 总找第一个0，right pointer j iterate挨个找第一个不是0的值，swap\n",
    "          "
   ]
  },
  {
   "cell_type": "code",
   "execution_count": 2,
   "metadata": {},
   "outputs": [],
   "source": [
    "class Solution(object):\n",
    "    def moveZeroes(self, nums):\n",
    "        \"\"\"\n",
    "        :type nums: List[int]\n",
    "        :rtype: None Do not return anything, modify nums in-place instead.\n",
    "        \"\"\"\n",
    "        \n",
    "        i = 0 \n",
    "        for j in range(len(nums)):\n",
    "            if nums[j] != 0:\n",
    "                nums[i], nums[j] = nums[j], nums[i]\n",
    "                i += 1\n",
    "    \n",
    "        return nums\n",
    "        "
   ]
  },
  {
   "cell_type": "markdown",
   "metadata": {},
   "source": [
    "### Two Pointers \n",
    "\n",
    "挨个把非0数挪到前面，最后补齐0\n",
    "\n",
    "0(n) & O(1)\n"
   ]
  },
  {
   "cell_type": "code",
   "execution_count": 3,
   "metadata": {},
   "outputs": [],
   "source": [
    "class Solution(object):\n",
    "    def moveZeroes(self, nums):\n",
    "        \"\"\"\n",
    "        :type nums: List[int]\n",
    "        :rtype: None Do not return anything, modify nums in-place instead.\n",
    "        \"\"\"        \n",
    "        index = 0\n",
    "        for num in nums:\n",
    "            if num != 0:\n",
    "                nums[index] = num\n",
    "                index += 1\n",
    "        for i in range(index, len(nums)):\n",
    "            nums[i] = 0\n",
    "        return nums\n",
    "        "
   ]
  },
  {
   "cell_type": "markdown",
   "metadata": {},
   "source": [
    "# Binary Search"
   ]
  },
  {
   "cell_type": "markdown",
   "metadata": {},
   "source": [
    "### 《Binary Search Template》\n",
    "ref: https://blog.csdn.net/paul0127/article/details/107743493\n",
    "###    [二分/排序/搜索]BinarySearch的总结帖\n",
    "https://www.1point3acres.com/bbs/thread-432793-1-1.html"
   ]
  },
  {
   "cell_type": "code",
   "execution_count": 11,
   "metadata": {},
   "outputs": [],
   "source": [
    "def binary_search(array) -> int:\n",
    "    def condition(value) -> bool:\n",
    "        pass\n",
    "\n",
    "    left, right = 0, len(array)\n",
    "    while left < right:\n",
    "        mid = left + (right - left) // 2\n",
    "        if condition(mid):\n",
    "            right = mid\n",
    "        else:\n",
    "            left = mid + 1\n",
    "    return left"
   ]
  },
  {
   "cell_type": "markdown",
   "metadata": {},
   "source": [
    "## <font color='red'>162. Find Peak Element (M） </font> "
   ]
  },
  {
   "cell_type": "markdown",
   "metadata": {},
   "source": [
    "### Binary Search\n",
    "binary search --> O(logn)\n",
    "\n",
    "设置两个mid，找上坡还是下坡，（小，大）往右找，（大，小）往左找，知道找到peak（小，小）** find local maxima"
   ]
  },
  {
   "cell_type": "code",
   "execution_count": 13,
   "metadata": {},
   "outputs": [],
   "source": [
    "class Solution(object):\n",
    "    def findPeakElement(self, nums):\n",
    "        l, r = 0, len(nums)-1\n",
    "        while l < r :\n",
    "            mid1 = (l + r) / 2\n",
    "            mid2 = mid1 + 1\n",
    "            if nums[mid2] > nums[mid1]:     #上坡，往右找\n",
    "                l = mid2\n",
    "            else:                           # 下坡，往左找\n",
    "                r = mid1\n",
    "        \n",
    "        return l                            # when l = r\n"
   ]
  },
  {
   "cell_type": "code",
   "execution_count": null,
   "metadata": {},
   "outputs": [],
   "source": []
  },
  {
   "cell_type": "markdown",
   "metadata": {},
   "source": [
    "## <font color='red'>528. Random Pick with Weight (M） </font> "
   ]
  },
  {
   "cell_type": "code",
   "execution_count": null,
   "metadata": {},
   "outputs": [],
   "source": []
  },
  {
   "cell_type": "markdown",
   "metadata": {},
   "source": [
    "## <font color='red'>1011. Capacity to ship packages within D Days (M） </font> "
   ]
  },
  {
   "cell_type": "code",
   "execution_count": null,
   "metadata": {},
   "outputs": [],
   "source": []
  },
  {
   "cell_type": "markdown",
   "metadata": {},
   "source": [
    "## <font color='red'>704. Binary Search (E） </font> "
   ]
  },
  {
   "cell_type": "code",
   "execution_count": 16,
   "metadata": {},
   "outputs": [],
   "source": [
    "class Solution(object):\n",
    "    def search(self, nums, target):\n",
    "        l, r = 0, len(nums)-1\n",
    "        while l <= r:                   \n",
    "            mid = l + (r-l)/2\n",
    "            if nums[mid] == target:\n",
    "                return mid\n",
    "            elif nums[mid] < target:\n",
    "                l = mid + 1\n",
    "            else:\n",
    "                r = mid - 1\n",
    "        return -1"
   ]
  },
  {
   "cell_type": "code",
   "execution_count": null,
   "metadata": {},
   "outputs": [],
   "source": []
  },
  {
   "cell_type": "code",
   "execution_count": null,
   "metadata": {},
   "outputs": [],
   "source": []
  },
  {
   "cell_type": "code",
   "execution_count": null,
   "metadata": {},
   "outputs": [],
   "source": []
  },
  {
   "cell_type": "code",
   "execution_count": null,
   "metadata": {},
   "outputs": [],
   "source": []
  },
  {
   "cell_type": "code",
   "execution_count": 99,
   "metadata": {},
   "outputs": [],
   "source": [
    "a = []\n",
    "for l in a:\n",
    "    print(l + 2)"
   ]
  },
  {
   "cell_type": "code",
   "execution_count": 92,
   "metadata": {},
   "outputs": [
    {
     "name": "stdout",
     "output_type": "stream",
     "text": [
      "[2]\n"
     ]
    }
   ],
   "source": []
  },
  {
   "cell_type": "code",
   "execution_count": null,
   "metadata": {},
   "outputs": [],
   "source": []
  }
 ],
 "metadata": {
  "kernelspec": {
   "display_name": "Python 3",
   "language": "python",
   "name": "python3"
  },
  "language_info": {
   "codemirror_mode": {
    "name": "ipython",
    "version": 3
   },
   "file_extension": ".py",
   "mimetype": "text/x-python",
   "name": "python",
   "nbconvert_exporter": "python",
   "pygments_lexer": "ipython3",
   "version": "3.8.3"
  },
  "latex_envs": {
   "LaTeX_envs_menu_present": true,
   "autoclose": false,
   "autocomplete": true,
   "bibliofile": "biblio.bib",
   "cite_by": "apalike",
   "current_citInitial": 1,
   "eqLabelWithNumbers": true,
   "eqNumInitial": 1,
   "hotkeys": {
    "equation": "Ctrl-E",
    "itemize": "Ctrl-I"
   },
   "labels_anchors": false,
   "latex_user_defs": false,
   "report_style_numbering": false,
   "user_envs_cfg": false
  },
  "toc": {
   "base_numbering": 1,
   "nav_menu": {},
   "number_sections": false,
   "sideBar": true,
   "skip_h1_title": false,
   "title_cell": "Table of Contents",
   "title_sidebar": "Contents",
   "toc_cell": false,
   "toc_position": {},
   "toc_section_display": true,
   "toc_window_display": true
  }
 },
 "nbformat": 4,
 "nbformat_minor": 2
}
