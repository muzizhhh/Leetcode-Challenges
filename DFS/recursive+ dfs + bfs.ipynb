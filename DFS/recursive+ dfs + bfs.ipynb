{
 "cells": [
  {
   "cell_type": "markdown",
   "metadata": {},
   "source": [
    "## <font color='red'>215. Kth Largest Element in an Array (M) </font> "
   ]
  },
  {
   "cell_type": "markdown",
   "metadata": {},
   "source": [
    "### Sort \n",
    "\n",
    "--> O(nlgn) & O(1)   48ms"
   ]
  },
  {
   "cell_type": "code",
   "execution_count": 2,
   "metadata": {},
   "outputs": [],
   "source": [
    "class Solution(object):\n",
    "    def findKthLargest(self, nums, k):\n",
    "        \"\"\"\n",
    "        :type nums: List[int]\n",
    "        :type k: int\n",
    "        :rtype: int\n",
    "        \"\"\"\n",
    "        nums = sorted(nums)\n",
    "        return nums[-k]"
   ]
  },
  {
   "cell_type": "markdown",
   "metadata": {},
   "source": [
    "### Min-Heap   \n",
    "\n",
    "--> heapify O(n) + heappop() O(logk) for the heap of size k\n",
    "\n",
    "-->     O(n+nlogk) & O(k)  97ms\n",
    "\n",
    "heap size == k, 保证heap里面有K个largest elements，最后去minheap 的top elemenet "
   ]
  },
  {
   "cell_type": "code",
   "execution_count": 3,
   "metadata": {},
   "outputs": [],
   "source": [
    "class Solution(object):\n",
    "    def findKthLargest(self, nums, k):\n",
    "        import heapq\n",
    "        minheap = []\n",
    "        for num in nums:\n",
    "            if len(minheap) < k:\n",
    "                heapq.heappush(minheap,num)\n",
    "            else:\n",
    "                if num > minheap[0]:  #if larger than the root element of the min-heap\n",
    "                    heapq.heappop(minheap)             # remove the root\n",
    "                    heapq.heappush(minheap,num)      # add the num\n",
    "        return minheap[0]             \n",
    "        "
   ]
  },
  {
   "cell_type": "markdown",
   "metadata": {},
   "source": [
    "### Quick Sort   ????\n",
    "\n",
    "--> average O(n), worst case O(n)\n",
    "\n",
    "left(larger num), pivot(random pick), right(smaller num)\n",
    "        "
   ]
  },
  {
   "cell_type": "markdown",
   "metadata": {},
   "source": [
    "## <font color='red'>347. Top K Frequent Elements (M) </font> "
   ]
  },
  {
   "cell_type": "markdown",
   "metadata": {},
   "source": [
    "### Hashmap + Sort based on value    \n",
    "\n",
    "--> O(n + nlogn) --> O(nlogn) & O(n)  \n",
    "{'1':3, '2':2, '3':1, '4':3}  --> ['4','1','2','3']\n"
   ]
  },
  {
   "cell_type": "code",
   "execution_count": null,
   "metadata": {},
   "outputs": [],
   "source": [
    "class Solution(object):\n",
    "    def topKFrequent(self, nums, k):\n",
    "        nums_dict = Counter(nums)   \n",
    "        output = sorted(nums_dict, key = lambda k: nums_dict[k], reverse =True)   \n",
    "        # output = sorted(nums_dict.items(), key = lambda item: item[1], reverse = True) --will give whole sorted dictionary\n",
    "        return output[:k]"
   ]
  },
  {
   "cell_type": "markdown",
   "metadata": {},
   "source": [
    "### Hashmap + Maxheap \n",
    "\n",
    "--> O(nlogk) & O(k)  but if k=n, not better than nlogn      \n"
   ]
  },
  {
   "cell_type": "code",
   "execution_count": 7,
   "metadata": {},
   "outputs": [],
   "source": [
    "class Solution(object):\n",
    "    def topKFrequent(self, nums, k):\n",
    "        import heapq\n",
    "        h = []\n",
    "        \n",
    "        # hashmap to get the frequency for each unique value\n",
    "        nums_dict = Counter(nums)\n",
    "        \n",
    "        # create k-sized heap 只保持前k个最大频率得pair构建堆，最后输出heap内所有key值\n",
    "        for key, cnt in nums_dict.items():\n",
    "            if len(h) < k:                       #keep the heap size == k\n",
    "                heapq.heappush(h, (cnt, key))\n",
    "            else:\n",
    "                if cnt > h[0][0]:\n",
    "                    heapq.heappop(h)\n",
    "                    heapq.heappush(h,(cnt,key))\n",
    "                    \n",
    "        # now the remaining of heap is the top k frequent elements (pair)\n",
    "        return [key for (cnt, key) in h]"
   ]
  },
  {
   "cell_type": "markdown",
   "metadata": {},
   "source": [
    "### Hashmap + Bucket sort\n",
    "\n",
    "O(n) & O(n)"
   ]
  },
  {
   "cell_type": "code",
   "execution_count": 8,
   "metadata": {},
   "outputs": [],
   "source": [
    "class Solution(object):\n",
    "    def topKFrequent(self, nums, k):\n",
    "        nums_dict = Counter(nums)\n",
    "        buckets = [[] for _ in range(max(nums_dict.values())+1)]    # 每个cnt设置空桶，之后存放频率相同得key\n",
    "        # buckets = [[] for _ in range(len(nums)+1)]                \n",
    "        \n",
    "        # build the bucket\n",
    "        for key, cnt in nums_dict.items():\n",
    "            buckets[cnt].append(key)\n",
    "        \n",
    "        # get the last k buckets\n",
    "        res = []\n",
    "        for i in range(len(buckets)-1,-1,-1):\n",
    "            if len(res) < k:\n",
    "                res += buckets[i]\n",
    "        return res"
   ]
  },
  {
   "cell_type": "code",
   "execution_count": null,
   "metadata": {},
   "outputs": [],
   "source": []
  },
  {
   "cell_type": "code",
   "execution_count": null,
   "metadata": {},
   "outputs": [],
   "source": []
  },
  {
   "cell_type": "code",
   "execution_count": null,
   "metadata": {},
   "outputs": [],
   "source": []
  }
 ],
 "metadata": {
  "kernelspec": {
   "display_name": "Python 3",
   "language": "python",
   "name": "python3"
  },
  "language_info": {
   "codemirror_mode": {
    "name": "ipython",
    "version": 3
   },
   "file_extension": ".py",
   "mimetype": "text/x-python",
   "name": "python",
   "nbconvert_exporter": "python",
   "pygments_lexer": "ipython3",
   "version": "3.8.3"
  },
  "latex_envs": {
   "LaTeX_envs_menu_present": true,
   "autoclose": false,
   "autocomplete": true,
   "bibliofile": "biblio.bib",
   "cite_by": "apalike",
   "current_citInitial": 1,
   "eqLabelWithNumbers": true,
   "eqNumInitial": 1,
   "hotkeys": {
    "equation": "Ctrl-E",
    "itemize": "Ctrl-I"
   },
   "labels_anchors": false,
   "latex_user_defs": false,
   "report_style_numbering": false,
   "user_envs_cfg": false
  },
  "toc": {
   "base_numbering": 1,
   "nav_menu": {},
   "number_sections": false,
   "sideBar": true,
   "skip_h1_title": false,
   "title_cell": "Table of Contents",
   "title_sidebar": "Contents",
   "toc_cell": false,
   "toc_position": {},
   "toc_section_display": true,
   "toc_window_display": false
  }
 },
 "nbformat": 4,
 "nbformat_minor": 4
}
