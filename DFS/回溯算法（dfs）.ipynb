{
 "cells": [
  {
   "cell_type": "markdown",
   "metadata": {},
   "source": [
    "解决一个回溯问题，实际上就是一个决策树的遍历过程。你只需要思考 3 个问题：\n",
    "\n",
    "- 路径：也就是已经做出的选择。==> path 开始为空 [],一边遍历一边path.append()\n",
    "\n",
    "- 选择列表：也就是你当前可以做的选择。==> nums (注意如何选择index作为starting point）\n",
    "\n",
    "- 结束条件：也就是到达决策树底层，无法再做选择的条件. eg：遍历得时候（while loop), for i in range(index, len(num))\n",
    "\n",
    "### [ three steps ]:\n",
    "- choose\n",
    "- explore\n",
    "- un-choose\n",
    "\n",
    "### [ two parts ]\n",
    "- basic case\n",
    "- recursive case"
   ]
  },
  {
   "cell_type": "markdown",
   "metadata": {},
   "source": [
    "### 什么时候用？\n",
    "- generate all the possible answers\n",
    "- whether there is a solution that we beed to try every possible cases to check whether it is valid."
   ]
  },
  {
   "cell_type": "markdown",
   "metadata": {},
   "source": [
    "### Backtracking框架 （ 每一层结束后要返回上一层）\n",
    "在bt之前做选择 --> 下一层开始执行bt --> 不满足条件继续bt递归往下走，满足结束条件跳出bt，撤销选择（即返回上一层）\n",
    "\n",
    "result = []\n",
    "def backtrack(路径, 选择列表):\n",
    "    if 满足结束条件:\n",
    "        result.append(路径[:])\n",
    "        return\n",
    "    \n",
    "    for 选择 in 选择列表:                         # 在递归调用之前「做选择」，在递归调用之后「撤销选择」\n",
    "        排除不合理的选择\n",
    "        做选择                                    #(path.append(元素)           \n",
    "        backtrack(路径, 选择列表)                  \n",
    "        撤销选择                                   # path.pop()"
   ]
  },
  {
   "cell_type": "markdown",
   "metadata": {},
   "source": [
    "### issue：\n",
    "- brute-force + pruning or recursion with constraints<br>\n",
    "时间复杂度比较高（exponenttial), =递归函数*递归函数被调用得次数（递归树上节点的个数）， 所以n一般不能太高 （纯暴力穷举）\n",
    "- for bt递归函数 for O(n) and nested contain fuction --> O(n^2) 此处可以用交换元素得方法降低contains得时间复杂度\n",
    "- 高度为N， O（N!）\n",
    "\n",
    "Thus, total is O(N! * n^2)"
   ]
  },
  {
   "cell_type": "markdown",
   "metadata": {},
   "source": [
    "### Ref links:\n",
    "- 【labuladong】回溯算法核心套路详解 https://www.bilibili.com/video/BV1P5411N7Xc\n",
    "-   https://www.bilibili.com/video/BV1KT4y1M7HJ  带你学透回溯算法-组合总和（对应「leetcode」力扣题目：39.组合总和"
   ]
  },
  {
   "cell_type": "markdown",
   "metadata": {},
   "source": [
    "## <font color='blue'>39. Combination Sum (M) </font> "
   ]
  },
  {
   "cell_type": "code",
   "execution_count": 4,
   "metadata": {},
   "outputs": [],
   "source": [
    "class Solution(object):\n",
    "    def combinationSum(self, candidates, target):\n",
    "                \n",
    "        candidates = sorted(candidates)\n",
    "        res = []\n",
    "        \n",
    "        def bt(index, candidates, target, path):\n",
    "            if target==0:\n",
    "                res.append(path[:])\n",
    "                return \n",
    "            elif target < 0:\n",
    "                return\n",
    "            else:\n",
    "                for i in range(index, len(candidates)):\n",
    "                    path.append(candidates[i])\n",
    "                    bt(i, candidates, target-candidates[i],path)\n",
    "                    path.pop()\n",
    "        bt(0, candidates, target, [])\n",
    "        return res"
   ]
  },
  {
   "cell_type": "markdown",
   "metadata": {},
   "source": [
    "### dfs + backtracking + 剪枝"
   ]
  },
  {
   "cell_type": "code",
   "execution_count": 6,
   "metadata": {},
   "outputs": [],
   "source": [
    "class Solution(object):\n",
    "    def combinationSum(self, candidates, target):\n",
    "\n",
    "        candidates = sorted(candidates)\n",
    "        res = []\n",
    "        \n",
    "        def bt(index, candidates, target, path):\n",
    "            if target==0:\n",
    "                res.append(path[:])\n",
    "                return \n",
    "            else:\n",
    "                for i in range(index, len(candidates)):\n",
    "                    if target < candidates[i]:\n",
    "                        return\n",
    "                    path.append(candidates[i])\n",
    "                    bt(i, candidates, target-candidates[i],path)\n",
    "                    path.pop()\n",
    "        bt(0, candidates, target, [])\n",
    "        return res\n",
    "                    "
   ]
  },
  {
   "cell_type": "markdown",
   "metadata": {},
   "source": [
    "### DP\n",
    "\n",
    "O (n*target*average(l))"
   ]
  },
  {
   "cell_type": "code",
   "execution_count": 7,
   "metadata": {},
   "outputs": [],
   "source": [
    "class Solution(object):\n",
    "    def combinationSum(self, candidates, target):\n",
    "        \n",
    "        \"\"\"\n",
    "             sub-target (t)\n",
    "        c    0,  1,  2,  3,  4,   5,    6,     7   (target+1)\n",
    "\n",
    "        3   []  []  []  [3]  []   []  [3,3]    []\n",
    "\n",
    "        2   []  []  [2] [] [2,2] [2,3] [2,2,2] [2,2,3]\n",
    "\n",
    "        6   []  []  []  []   []    []   [6]     []\n",
    "\n",
    "        7   []  []  []  []  []     []   []      [7]\n",
    "\n",
    "            res = [[2,2,3],[7]]\n",
    "\n",
    "        \"\"\"\n",
    "\n",
    "        dp = [[] for _ in range(target+1)]\n",
    "\n",
    "        for c in candidates:\n",
    "            for t in range(1, target+1):\n",
    "                if c > t: continue\n",
    "                elif c == t: \n",
    "                    dp[t].append([c])\n",
    "                else:                    \n",
    "                    for l in dp[t-c]:\n",
    "                        dp[t].append([c] + l)\n",
    "        return dp[-1]\n"
   ]
  },
  {
   "cell_type": "markdown",
   "metadata": {},
   "source": [
    "## <font color='blue'>40. Combination SumII (M) </font> \n"
   ]
  },
  {
   "cell_type": "code",
   "execution_count": null,
   "metadata": {},
   "outputs": [],
   "source": [
    "模板变形 --> 每个num只能用一次 --> 搜索树横着不能有duplicates，竖着可以<br>\n",
    "\n",
    "Time Complexity: O(2^N) but labuladong --> O(N!)\n",
    "\n",
    "In the worst case, our algorithm will exhaust all possible combinations from the input array, which in total amounts to 2^N\n",
    "as we discussed before.\n",
    "\n",
    "The sorting will take O(NlogN).\n",
    "\n",
    "To sum up, the overall time complexity of the algorithm is dominated by the backtracking process, which is O(2^N).\n",
    "\n",
    "Space Complexity: O(N)\n",
    "\n",
    "We use the variable comb to keep track of the current combination we build, which requires O(N) space.\n",
    "\n",
    "In addition, we apply recursion in the algorithm, which will incur additional memory consumption in the function call stack. In the worst case, the stack will pile up to O(N) space.\n",
    "\n",
    "To sum up, the overall space complexity of the algorithm is O(N) + O(N) =O(N)."
   ]
  },
  {
   "cell_type": "code",
   "execution_count": null,
   "metadata": {},
   "outputs": [],
   "source": [
    "class Solution(object):\n",
    "    def combinationSum2(self, candidates, target):\n",
    "        candidates = sorted(candidates)\n",
    "        res = []\n",
    "\n",
    "        def bt(index, candidates, target, path):\n",
    "            # base case\n",
    "            if target == 0:\n",
    "                res.append(path[:])\n",
    "                return \n",
    "            \n",
    "            for i in range(index, len(candidates)):                      # i 横着走，index竖着走（bt function)\n",
    "                if target < candidates[i]:                               # 剪枝\n",
    "                    return \n",
    "                if i > index and candidates[i] == candidates[i-1]:       #<Update Here> 保证横着搜，没有duplicates，但竖着可以\n",
    "                    continue                                             # 如果横着有duplicates，跳出for loop循环\n",
    "                path.append(candidates[i])\n",
    "                bt(i+1, candidates, target-candidates[i], path)          #<Update Here> each num only be used once\n",
    "                path.pop()\n",
    "        \n",
    "        bt(0, candidates, target, [])\n",
    "        return res   "
   ]
  },
  {
   "cell_type": "markdown",
   "metadata": {},
   "source": [
    "## <font color='blue'>51. N-Queens (H) </font> \n",
    "\n",
    "模板，但要排除可以互相攻击的皇后（上，左上，右上）<br>\n",
    "TC: exponential"
   ]
  },
  {
   "cell_type": "code",
   "execution_count": null,
   "metadata": {},
   "outputs": [],
   "source": [
    "class Solution(object):\n",
    "    def solveNQueens(self, n):\n",
    "        \"\"\"\n",
    "        n*n 棋盘，找到放置n个皇后的方法. n=2or3不可行, n >4 才可以.\n",
    "        回溯模板 --> index(=row), i (column) --> 每一行/列/对角线只能放一个 -->皇后相互不能攻击（top，topleft,topright)\n",
    "        \"\"\"\n",
    "        board = [[\".\"] * n for _ in range(n)]\n",
    "        res = []\n",
    "        # convert list of board to string board\n",
    "        def generate(board):\n",
    "            str_board = []\n",
    "            for row in board:\n",
    "                str_row = \"\".join(row)\n",
    "                str_board.append(str_row)\n",
    "            return str_board\n",
    "            \n",
    "        # check to make sure no attack \n",
    "        def check(board, row, col):\n",
    "            # 判断同一列，之前的row不能有Q\n",
    "            for i in range(row):            \n",
    "                if board[i][col] == \"Q\":\n",
    "                    return False\n",
    "            # 判断左对角线\n",
    "            i = row-1                         \n",
    "            j = col-1\n",
    "            while i>=0 and j>=0:\n",
    "                if board[i][j] == \"Q\":\n",
    "                    return False\n",
    "                i -= 1\n",
    "                j -= 1\n",
    "            # 判断右对角线\n",
    "            i = row-1                         \n",
    "            j = col+1\n",
    "            while i>=0 and j < n:\n",
    "                if board[i][j] == \"Q\":\n",
    "                    return False\n",
    "                i -= 1\n",
    "                j += 1\n",
    "            return True\n",
    "\n",
    "        def bt(index, board):\n",
    "            # base case\n",
    "            if index == n:\n",
    "                res.append(generate(board))\n",
    "                return\n",
    "            \n",
    "            for i in range(0, n):\n",
    "                # check attack\n",
    "                if check(board,index,i):\n",
    "                    board[index][i] = \"Q\"\n",
    "                    bt(index+1,board)\n",
    "                    board[index][i] = \".\"            # 回溯恢复==pop\n",
    "\n",
    "        bt(0, board)\n",
    "        return res"
   ]
  },
  {
   "cell_type": "markdown",
   "metadata": {},
   "source": [
    "## <font color='blue'>46. Permutations (M) </font> \n"
   ]
  },
  {
   "cell_type": "markdown",
   "metadata": {},
   "source": [
    "##### recursion + backtracking \n",
    "\n",
    "(*no staring pointer)"
   ]
  },
  {
   "cell_type": "code",
   "execution_count": null,
   "metadata": {},
   "outputs": [],
   "source": [
    "class Solution(object):\n",
    "    def permute(self, nums):\n",
    "\n",
    "        res, path = [], []\n",
    "        \n",
    "        def bt(nums, path):\n",
    "            #base case\n",
    "            if len(path) == len(nums):\n",
    "                res.append(path[:])\n",
    "                return \n",
    "            \n",
    "            for i in range(len(nums)):\n",
    "                if nums[i] in path:\n",
    "                    continue\n",
    "                path.append(nums[i])\n",
    "                bt(nums, path)\n",
    "                path.pop()\n",
    "        bt(nums, path)\n",
    "        return res"
   ]
  },
  {
   "cell_type": "code",
   "execution_count": null,
   "metadata": {},
   "outputs": [],
   "source": []
  },
  {
   "cell_type": "code",
   "execution_count": null,
   "metadata": {},
   "outputs": [],
   "source": []
  },
  {
   "cell_type": "code",
   "execution_count": null,
   "metadata": {},
   "outputs": [],
   "source": [
    "## <font color='blue'>40. Combination SumII (M) </font> \n"
   ]
  },
  {
   "cell_type": "code",
   "execution_count": null,
   "metadata": {},
   "outputs": [],
   "source": []
  },
  {
   "cell_type": "code",
   "execution_count": null,
   "metadata": {},
   "outputs": [],
   "source": []
  },
  {
   "cell_type": "code",
   "execution_count": null,
   "metadata": {},
   "outputs": [],
   "source": []
  },
  {
   "cell_type": "code",
   "execution_count": null,
   "metadata": {},
   "outputs": [],
   "source": []
  },
  {
   "cell_type": "code",
   "execution_count": null,
   "metadata": {},
   "outputs": [],
   "source": []
  },
  {
   "cell_type": "code",
   "execution_count": null,
   "metadata": {},
   "outputs": [],
   "source": []
  },
  {
   "cell_type": "code",
   "execution_count": null,
   "metadata": {},
   "outputs": [],
   "source": []
  },
  {
   "cell_type": "code",
   "execution_count": null,
   "metadata": {},
   "outputs": [],
   "source": []
  },
  {
   "cell_type": "code",
   "execution_count": null,
   "metadata": {},
   "outputs": [],
   "source": []
  },
  {
   "cell_type": "code",
   "execution_count": null,
   "metadata": {},
   "outputs": [],
   "source": []
  },
  {
   "cell_type": "code",
   "execution_count": null,
   "metadata": {},
   "outputs": [],
   "source": []
  },
  {
   "cell_type": "code",
   "execution_count": 4,
   "metadata": {},
   "outputs": [
    {
     "name": "stdout",
     "output_type": "stream",
     "text": [
      "{3, 4, 6}\n"
     ]
    }
   ],
   "source": [
    "#test\n",
    "nums = [6,6,3,4]\n",
    "print(set(sorted(nums)))"
   ]
  }
 ],
 "metadata": {
  "kernelspec": {
   "display_name": "Python 3",
   "language": "python",
   "name": "python3"
  },
  "language_info": {
   "codemirror_mode": {
    "name": "ipython",
    "version": 3
   },
   "file_extension": ".py",
   "mimetype": "text/x-python",
   "name": "python",
   "nbconvert_exporter": "python",
   "pygments_lexer": "ipython3",
   "version": "3.7.1"
  },
  "latex_envs": {
   "LaTeX_envs_menu_present": true,
   "autoclose": false,
   "autocomplete": true,
   "bibliofile": "biblio.bib",
   "cite_by": "apalike",
   "current_citInitial": 1,
   "eqLabelWithNumbers": true,
   "eqNumInitial": 1,
   "hotkeys": {
    "equation": "Ctrl-E",
    "itemize": "Ctrl-I"
   },
   "labels_anchors": false,
   "latex_user_defs": false,
   "report_style_numbering": false,
   "user_envs_cfg": false
  },
  "toc": {
   "base_numbering": 1,
   "nav_menu": {},
   "number_sections": false,
   "sideBar": true,
   "skip_h1_title": false,
   "title_cell": "Table of Contents",
   "title_sidebar": "Contents",
   "toc_cell": false,
   "toc_position": {},
   "toc_section_display": true,
   "toc_window_display": false
  }
 },
 "nbformat": 4,
 "nbformat_minor": 4
}
