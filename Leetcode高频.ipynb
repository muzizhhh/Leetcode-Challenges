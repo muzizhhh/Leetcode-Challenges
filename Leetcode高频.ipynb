{
 "cells": [
  {
   "cell_type": "markdown",
   "metadata": {},
   "source": [
    "## == Sort == "
   ]
  },
  {
   "cell_type": "code",
   "execution_count": null,
   "metadata": {},
   "outputs": [],
   "source": []
  },
  {
   "cell_type": "code",
   "execution_count": null,
   "metadata": {},
   "outputs": [],
   "source": []
  },
  {
   "cell_type": "markdown",
   "metadata": {},
   "source": [
    "### LC_252. Meeting rooms (easy)\n",
    "Given an array of meeting time intervals consisting of start and end times [[s1,e1],[s2,e2],…] (si < ei), determine if a person could attend all meetings.\n",
    "\n",
    "Input: [[0,30],[5,10],[15,20]]\n",
    "Output: false\n",
    "\n",
    "Input: [[7,10],[2,4]]\n",
    "Output: true"
   ]
  },
  {
   "cell_type": "markdown",
   "metadata": {},
   "source": [
    "Sort the list by start time and iterate the sorted list. If the current start time is less than previous end time, then there is conflict and you can not attend all meeting.\n",
    "\n",
    "\n",
    "Time complexity : O(nlogn + n) since sort the list will take O(nlogn) and iteration will take O(n) where n is the size of input. Sum up the time complexity is O(nlogn)\n",
    "\n"
   ]
  },
  {
   "cell_type": "code",
   "execution_count": 9,
   "metadata": {},
   "outputs": [],
   "source": [
    "#Definition of Interval:\n",
    "class Interval(object):\n",
    "    def __init__(self, start, end):\n",
    "        self.start = start\n",
    "        self.end = end\n",
    "\n",
    "class Solution:\n",
    "    \"\"\"\n",
    "    @param intervals: an array of meeting time intervals\n",
    "    @return: if a person could attend all meetings\n",
    "    \"\"\"\n",
    "    def can_attend_meetings(self, intervals: List[Interval]) -> bool:\n",
    "        if len(intervals)>1:\n",
    "            intervals = sorted(intervals,key=lambda x:x.start)\n",
    "        for i in range(len(intervals)-1):\n",
    "            if intervals[i+1].start >= intervals[i].end:\n",
    "                return True\n",
    "            return False\n",
    "        else:\n",
    "            return True\n"
   ]
  },
  {
   "cell_type": "markdown",
   "metadata": {},
   "source": [
    "### LC_253 Meeting room 2"
   ]
  },
  {
   "cell_type": "markdown",
   "metadata": {},
   "source": [
    "my own implementation (not sure)"
   ]
  },
  {
   "cell_type": "code",
   "execution_count": 21,
   "metadata": {},
   "outputs": [
    {
     "data": {
      "text/plain": [
       "3"
      ]
     },
     "execution_count": 21,
     "metadata": {},
     "output_type": "execute_result"
    }
   ],
   "source": [
    "def meeting_room(intervals):\n",
    "    count = 1\n",
    "    intervals = sorted(intervals, key= lambda x:x[1])   #[(5,10),(15,20),(0,30)]\n",
    "    for i in range(len(intervals)-1):\n",
    "        previous = intervals[i]\n",
    "        nextone = intervals[i+1]\n",
    "        if nextone[0] < previous[1]:\n",
    "            count += 1\n",
    "    return count\n",
    "            \n",
    "    \n",
    "intervals = [[0, 30],[5, 10],[9, 20]]  \n",
    "# intervals = [[7,10],[2,4]]\n",
    "meeting_room(intervals)"
   ]
  },
  {
   "cell_type": "markdown",
   "metadata": {},
   "source": [
    "最小堆算法. 利用heap[0]永远是队列中最小值这一性质, 我们构建一个heap队列, 遍历intervals, 如果当前的intervals的开始时间在heap[0]之后, 那么两个会议可以用同一个房间, 我们将当前会议的结束时间来替代heap[0]; 否则需要另外开一个房间, 将会议的结束时间加到heap队列里, 最后返回heap的长度.\n",
    "\n",
    "Time: O(n)\n",
    "\n",
    "Space: O(1)\n"
   ]
  },
  {
   "cell_type": "code",
   "execution_count": 34,
   "metadata": {},
   "outputs": [
    {
     "name": "stdout",
     "output_type": "stream",
     "text": [
      "[[0, 30], [5, 10], [15, 20]]\n",
      "[30]\n",
      "[10, 30]\n",
      "[20, 30]\n"
     ]
    },
    {
     "data": {
      "text/plain": [
       "2"
      ]
     },
     "execution_count": 34,
     "metadata": {},
     "output_type": "execute_result"
    }
   ],
   "source": [
    "import heapq\n",
    "def minMeetingRooms(intervals):\n",
    "        \"\"\"\n",
    "        :type intervals: List[Interval]\n",
    "        :rtype: int\n",
    "        \"\"\"              \n",
    "        intervals.sort(key = lambda x: x[0])\n",
    "        heap = []\n",
    "        \n",
    "        for i in intervals:\n",
    "            if heap and i[0] >= heap[0]:\n",
    "                \n",
    "                # two meetings can use the same room\n",
    "                heapq.heapreplace(heap, i[1])\n",
    "            else:\n",
    "                # a new room is allocated\n",
    "                heapq.heappush(heap, i[1])\n",
    "                \n",
    "        return len(heap)\n",
    "    \n",
    "intervals = [[0, 30],[5, 10],[15, 20]]  \n",
    "# intervals = [[7,10],[2,4]]\n",
    "minMeetingRooms(intervals)\n"
   ]
  },
  {
   "cell_type": "markdown",
   "metadata": {},
   "source": [
    "### LC_29. Divide two integer\n",
    "Given two integers dividend and divisor, divide two integers without using multiplication, division, and mod operator."
   ]
  },
  {
   "cell_type": "markdown",
   "metadata": {},
   "source": [
    "被除数/除数=商 （忽略余数）=> 被除数=除数*商。\n",
    "\n",
    "商（任意整数）可以表示为：a_0 * 20+a_1 * 21+…+a_i * 2i+…+a_n * 2n.\n",
    "\n",
    "在python中左移操作<<相当于对一个数乘以2，右移操作相当于除以2.\n",
    "\n",
    "我们让除数左移直到大于被除数前的的一个数，例如计算28/3，我们进行三次左移操作，使3 * 2 * 2 * 2=3 * 8=24<28(注意四次左移操作得到3 * 24=48>28).记录下2 * 2 * 2=23=8.\n",
    "\n",
    "我们让28减去24得到4，然后像第四步一样计算4/3,则3 * 20=3<4.记录下20=1.\n",
    "\n",
    "由于4-3=1小于除数3，停止计算，并将每轮得到的值相加，在本例中8+1=9，记得到商（即28/3=9）。\n",
    "\n",
    "https://blog.csdn.net/L141210113/article/details/88306238"
   ]
  },
  {
   "cell_type": "code",
   "execution_count": 13,
   "metadata": {},
   "outputs": [],
   "source": [
    "class Solution:\n",
    "    def divide(self, dividend: int, divisor: int) -> int:\n",
    "        res,flag = 0,0\n",
    "        if (dividend >0 and divisor<0) or (dividend<0 and divisor>0):\n",
    "            flag = -1\n",
    "        \n",
    "        dividend,divisor = abs(dividend), abs(divisor)\n",
    "        while dividend >= divisor: \n",
    "            n = 0\n",
    "            while dividend >= divisor << n:\n",
    "                n+=1\n",
    "            res += 1<<(n-1)\n",
    "            dividend -= (divisor << (n-1))\n",
    "        \n",
    "        res = -res if flag <0 else res\n",
    "        if res > 2147483647 or res< -2147483647:\n",
    "            return 2147483647\n",
    "        \n",
    "        return res"
   ]
  },
  {
   "cell_type": "markdown",
   "metadata": {},
   "source": [
    "### LC_208 Implement Trie(Prefix tree)\n",
    "\n",
    "\n",
    "https://maxming0.github.io/2020/05/14/Implement-Trie-Prefix-Tree/\n",
    "\n",
    "https://www.youtube.com/watch?v=oobqoCJlHA0\n",
    "    "
   ]
  },
  {
   "cell_type": "code",
   "execution_count": null,
   "metadata": {},
   "outputs": [],
   "source": [
    "class Trie:\n",
    "\n",
    "    def __init__(self):\n",
    "        self.children = {}\n",
    "#         self.endofword = False\n",
    "\n",
    "    def insert(self, word: str) -> None:\n",
    "        node = self.children\n",
    "        for c in word:\n",
    "            if c not in node:  \n",
    "                node[c] = {}   \n",
    "            node = node[c]\n",
    "        # self.endofword = True\n",
    "        node[\"#\"] = True\n",
    "\n",
    "    def search(self, word: str) -> bool:\n",
    "        node = self.children\n",
    "        for c in word:\n",
    "            if c not in node:\n",
    "                return False\n",
    "            node = node[c]\n",
    "        return \"#\" in node\n",
    "        # print(node,self.endofword)\n",
    "        # return self.endofword\n",
    "        \n",
    "\n",
    "    def startsWith(self, prefix: str) -> bool:\n",
    "        node = self.children\n",
    "        for c in prefix:\n",
    "            if c not in node:\n",
    "                return False\n",
    "            node = node[c]\n",
    "        return True\n",
    "\n",
    "\n",
    "\n",
    "# Your Trie object will be instantiated and called as such:\n",
    "# obj = Trie()\n",
    "# obj.insert(word)\n",
    "\n",
    "# param_2 = obj.search(word)\n",
    "# param_3 = obj.startsWith(prefix)\n",
    "\n",
    "#[\"Trie\",\"insert\",\"search\",\"search\",\"startsWith\",\"insert\"]\n",
    "#[[],[\"apple\"],[\"apple\"],[\"app\"],[\"app\"],[\"app\"]]"
   ]
  },
  {
   "cell_type": "markdown",
   "metadata": {},
   "source": [
    "### LC_38 Count and Say/ Look-and-say Sequence (medium)"
   ]
  },
  {
   "cell_type": "markdown",
   "metadata": {},
   "source": [
    "Find the n’th term in Look-and-say (Or Count and Say) Sequence. The look-and-say sequence is the sequence of below integers: \n",
    "1, 11, 21, 1211, 111221, 312211, 13112221, 1113213211, … \n",
    "\n",
    "https://www.youtube.com/watch?v=e2HDQM5Q2r4"
   ]
  },
  {
   "cell_type": "code",
   "execution_count": 3,
   "metadata": {},
   "outputs": [],
   "source": [
    "class Solution:\n",
    "    def countAndSay(self, n: int) -> str:\n",
    "        if n == 1:\n",
    "            return \"1\"   #1111\n",
    "        \n",
    "        prev = self.countAndSay(n-1)\n",
    "        res = \"\"\n",
    "        count = 1   #1  i=0 pre[0] prev[    \n",
    "        \n",
    "        for i in range(len(prev)-1):\n",
    "            if prev[i] != prev[i+1]:\n",
    "                res += str(count) + str(prev[i])\n",
    "                count = 1\n",
    "            else:\n",
    "                count += 1\n",
    "                \n",
    "        # when i equal to the last idex of the \"prev\"\n",
    "        res += str(count) + str(prev[-1])\n",
    "        \n",
    "        return res       "
   ]
  },
  {
   "cell_type": "markdown",
   "metadata": {},
   "source": [
    "### LC_692 Top K Frequent Words (M)\n",
    "\n",
    "先用collections.Counter()统计单词的频率, 然后将结果先按照频数降序, 再按照字母升序排列, 然后从tuple中提取第一个元素, 即word, 最后取前k个元素.\n",
    "\n",
    "Time: O(n*log(n))\n",
    "\n",
    "Space: O(n)"
   ]
  },
  {
   "cell_type": "code",
   "execution_count": 71,
   "metadata": {},
   "outputs": [],
   "source": [
    "def topKFrequent(words,k):\n",
    "    output_dict = dict(collections.Counter(words))\n",
    "    output_dict = sorted(output_dict.items(), key = lambda x:(-x[1],x[0]))\n",
    "    return [item[0] for item in output_dict[:k]]"
   ]
  },
  {
   "cell_type": "markdown",
   "metadata": {},
   "source": [
    "一般，我们认为找出k个最大最小的问题都是一个使用堆来做的。\n",
    "\n",
    "heapq.heapify(heap)能在线性时间内，把一个列表转成堆。\n",
    "\n",
    "heapq.heappop(heap)能直接弹出堆的堆顶。\n",
    "\n",
    "heappush(heap,5)向堆中添加元素。\n",
    "\n",
    "Time: O(n*log(k))\n",
    "\n",
    "Space: O(n)"
   ]
  },
  {
   "cell_type": "code",
   "execution_count": 68,
   "metadata": {},
   "outputs": [
    {
     "name": "stdout",
     "output_type": "stream",
     "text": [
      "[(-2, 'i'), (-2, 'love'), (-1, 'leetcode'), (-1, 'coding')]\n"
     ]
    },
    {
     "data": {
      "text/plain": [
       "['coding', 'i']"
      ]
     },
     "execution_count": 68,
     "metadata": {},
     "output_type": "execute_result"
    }
   ],
   "source": [
    "def topKFrequent(words,k):\n",
    "    count = collections.Counter(words)\n",
    "    heap = [(-value, key) for key, value in count.items()]\n",
    "    heapq.heapify(heap)\n",
    "    return [heapq.heappop(heap)[1] for _ in range(k)]"
   ]
  },
  {
   "cell_type": "markdown",
   "metadata": {},
   "source": [
    "### 62. Unique Paths (M)\n",
    "\n",
    "时间复杂度是O(m * n)，空间复杂度是O(m * n)"
   ]
  },
  {
   "cell_type": "code",
   "execution_count": 77,
   "metadata": {},
   "outputs": [],
   "source": [
    "import numpy as np\n",
    "class Solution:\n",
    "    def uniquePaths(self, m: int, n: int):\n",
    "        \n",
    "        \"\"\"\n",
    "        * 1 2 3 4\n",
    "        1 1 1 1 1\n",
    "        2 1 2 3 4\n",
    "        3 1 3 6 10*\n",
    "        \"\"\"\n",
    "        dp = np.zeros((m,n)).astype(np.uint64)\n",
    "        # dp = [[0 for col in range(n)] for row in range(m)]\n",
    "        for i in range(n): \n",
    "            dp[0][i] = 1\n",
    "        for j in range(m):\n",
    "            dp[j][0] = 1\n",
    "        \n",
    "        for c in range(1,n):\n",
    "            for r in range(1,m):\n",
    "                dp[r][c] = dp[r-1][c]+dp[r][c-1]\n",
    "        dest= dp[m-1][n-1]\n",
    "        return dest\n",
    "        "
   ]
  },
  {
   "cell_type": "markdown",
   "metadata": {},
   "source": [
    "### LC202 Happy Number\n",
    "\n",
    "按照“happy number”的定义，直接循环计算各位平方和，观察是否收敛到1，若是则是 happy number。为了判断循环是否开始重复，要用一个字典（dict）或集合（set）来保存已经出现的数字，dict的效率更高。\n",
    "\n",
    "will have a better solution\n",
    "https://blog.csdn.net/coder_orz/article/details/51315486"
   ]
  },
  {
   "cell_type": "code",
   "execution_count": 4,
   "metadata": {},
   "outputs": [],
   "source": [
    "class Solution:\n",
    "    def isHappy(self, n: int) -> bool:\n",
    "        if n == 1:\n",
    "            return True\n",
    "        output = []\n",
    "        \n",
    "        happynum = 0\n",
    "        \n",
    "        while happynum != 1:\n",
    "            happynum = 0\n",
    "            for num in str(n):\n",
    "                happynum += int(num)**2   \n",
    "            output.append(happynum)       \n",
    "            print(output)\n",
    "            if happynum == 1:\n",
    "                return True\n",
    "            else:\n",
    "                n = happynum\n",
    "                \n",
    "            if output.count(happynum)==2:  #loop\n",
    "                return False\n",
    "            "
   ]
  },
  {
   "cell_type": "markdown",
   "metadata": {},
   "source": [
    "### LC_811. Subdomain Visit Count\n",
    "\n",
    "The algorithm is straightforward: we just do what the problem statement tells us to do.\n",
    "\n",
    "For an address like a.b.c, we will count a.b.c, b.c, and c. For an address like x.y, we will count x.y and y.\n",
    "\n",
    "To count these strings, we will use a hash map. To split the strings into the required pieces, we will use library split functions."
   ]
  },
  {
   "cell_type": "code",
   "execution_count": null,
   "metadata": {},
   "outputs": [],
   "source": [
    "class Solution:\n",
    "    def subdomainVisits(self, cpdomains: List[str]) -> List[str]:\n",
    "        ans = collections.Counter()    # can't use dict {} for adding value \n",
    "        res = []\n",
    "        print(\"ans0\",list(ans))\n",
    "        \n",
    "        for item in cpdomains:\n",
    "            num, domain = item.split(\" \")\n",
    "            num = int(num)\n",
    "            sub = domain.split(\".\")  \n",
    "            print(sub)\n",
    "            for i in range(len(sub)):\n",
    "                sub_domain = \".\".join(sub[i:])    # string.join()\n",
    "                print(\"sub_domain\",sub_domain)\n",
    "                ans[sub_domain] += num\n",
    "        \n",
    "        for sub_domain, num in ans.items():\n",
    "            res.append(str(num) + \" \" + str(sub_domain))\n",
    "        return res"
   ]
  },
  {
   "cell_type": "markdown",
   "metadata": {},
   "source": [
    "### LC718 Maximum Length of Repeated Subarray (和1062本质上一样)\n",
    "\n",
    "Time Complexity: O(M*N)O(M∗N), where M, NM,N are the lengths of A, B.\n",
    "\n",
    "Space Complexity: O(M*N)O(M∗N), the space used by dp."
   ]
  },
  {
   "cell_type": "code",
   "execution_count": null,
   "metadata": {},
   "outputs": [],
   "source": [
    "class Solution:\n",
    "    def findLength(self, nums1: List[int], nums2: List[int]) -> int:\n",
    "        \"\"\"\n",
    "      j   0 1 2 3 2 1\n",
    "    i   0 0 0 0 0 0 0\n",
    "        3 0 0 0 1 0 0\n",
    "        2 0 0 1 0 2 0\n",
    "        1 0 1 1 0 0 3\n",
    "        4 0 \n",
    "        7 0 \n",
    "        \"\"\"\n",
    "        import numpy as np\n",
    "        r,c = len(nums1)+1, len(nums2)+1\n",
    "        dp = np.zeros((r,c))   # zero matrix\n",
    "        maximum = 0            \n",
    "\n",
    "        for i in range(1, r):\n",
    "            for j in range(1, c):\n",
    "                if nums1[i-1] == nums2[j-1]:\n",
    "                    dp[i][j] = 1 + dp[i-1][j-1]\n",
    "                    if dp[i][j] > maximum:\n",
    "                        maximum = max(dp[i][j], maximum)\n",
    "                # else:\n",
    "                #     dp[i][j] = 0    #already 0 matrix\n",
    "        return int(maximum)\n"
   ]
  },
  {
   "cell_type": "markdown",
   "metadata": {},
   "source": [
    "### LC_362. Design Hit Counter (M)"
   ]
  },
  {
   "cell_type": "markdown",
   "metadata": {},
   "source": [
    "构建列表, 每次hit时, 往列表里加timestamp, 每次getHits时, 检查目前的timeStamp与列表的第一个元素的间隔是否>= 300, 如果是, 那么一直从列表头部删除元素直到timeStamp与列表的第一个元素的间隔 < 300为止, 然后返回self.data的长度即可.\n"
   ]
  },
  {
   "cell_type": "code",
   "execution_count": null,
   "metadata": {},
   "outputs": [],
   "source": [
    "class HitCounter:\n",
    "\n",
    "    def __init__(self):\n",
    "        \"\"\"\n",
    "        Initialize your data structure here.\n",
    "        \"\"\"\n",
    "        self.data = []        \n",
    "        \n",
    "\n",
    "    def hit(self, timestamp: 'int') -> 'None':\n",
    "        \"\"\"\n",
    "        Record a hit.\n",
    "        @param timestamp - The current timestamp (in seconds granularity).\n",
    "        \"\"\"\n",
    "        \n",
    "        self.data.append(timestamp)\n",
    "        \n",
    "\n",
    "    def getHits(self, timestamp: 'int') -> 'int':\n",
    "        \"\"\"\n",
    "        Return the number of hits in the past 5 minutes.\n",
    "        @param timestamp - The current timestamp (in seconds granularity).\n",
    "        \"\"\"        \n",
    "        while self.data and timestamp - self.data[0] >= 300:\n",
    "            self.data.pop(0)\n",
    "        return len(self.data)\n"
   ]
  },
  {
   "cell_type": "markdown",
   "metadata": {},
   "source": [
    "### LC_1091. Shortest Path in Binary Matrix\n",
    "\n",
    "(BFS) https://www.youtube.com/watch?v=vn-Jol8SNsM"
   ]
  },
  {
   "cell_type": "code",
   "execution_count": null,
   "metadata": {},
   "outputs": [],
   "source": [
    "class Solution:\n",
    "    def shortestPathBinaryMatrix(self, grid: List[List[int]]) -> int:\n",
    "        row, col = len(grid), len(grid[0])\n",
    "        \"\"\"\n",
    "       -1,-1  -1,0  -1,1\n",
    "        0,-1   0,0   0,1\n",
    "        1 -1   1,0   1,1\n",
    "        \"\"\"\n",
    "        nearcells = [(-1,-1),(-1,0),(-1,1),(0,-1),(0,1),(1,-1),(1,0),(1,1)]\n",
    "        visited = set()  # visited coordinates = path   ** set==> no repeated element; list==> can have repeated element\n",
    "        q = deque()      # (step, coordinates) ==> current cell\n",
    "       \n",
    "        # start cell\n",
    "        if grid[0][0] == 0:\n",
    "            q.append((1,(0,0)))       \n",
    "            visited.add((0,0))\n",
    "            \n",
    "            \n",
    "        while q:                        # ala we have a start cell\n",
    "            steps, cell = q.popleft()\n",
    "            r, c = cell[0],cell[1]\n",
    "            if (r,c) == (row-1,col-1):\n",
    "                return steps\n",
    "            \n",
    "            for i, j in nearcells:\n",
    "                new_r,new_c = r+i,c+j\n",
    "                if 0<= new_r <= row-1 and 0<= new_c<= col-1 and grid[new_r][new_c] == 0 and (new_r,new_c) not in visited:\n",
    "                    q.append((steps+1,(new_r,new_c)))\n",
    "                    visited.add((new_r,new_c))\n",
    "        return -1         \n",
    "        "
   ]
  },
  {
   "cell_type": "markdown",
   "metadata": {},
   "source": [
    "### LC_269. Alien Dictionary (H)"
   ]
  },
  {
   "cell_type": "markdown",
   "metadata": {},
   "source": [
    "### LC_621. Task Scheduler (M) hard-level\n",
    "https://www.youtube.com/watch?v=wTUsb3nuOCQ"
   ]
  },
  {
   "cell_type": "markdown",
   "metadata": {},
   "source": []
  },
  {
   "cell_type": "markdown",
   "metadata": {},
   "source": [
    "#### Soluation 1 ----- Brute Force \n",
    "内外两个循环找和为target的两个数字\n",
    "\n",
    "@ TC: O(n^2) ----- two loops with outer and inner loop  \n",
    "@ SC: O(1)\n",
    "\n",
    "Note:\n",
    "\n",
    "-- don't use list.index() for input like [3,3]"
   ]
  },
  {
   "cell_type": "code",
   "execution_count": 9,
   "metadata": {},
   "outputs": [],
   "source": [
    "def twoSum(nums, target):\n",
    "    for i in range(len(nums)):     \n",
    "        num1 = nums[i]\n",
    "        num2 = target - num1\n",
    "        if num2 in nums[i+1:]:\n",
    "            results = [i,i+nums[i+1:].index(num2)+1]  # using list.index(value)  \n",
    "    return results\n",
    "\n",
    "def twoSum(nums, target):\n",
    "    for i in range(len(nums)-1):     \n",
    "        num2 = target - nums[i]\n",
    "        for j in range(i+1,len(nums)):                 # two loops\n",
    "            if nums[j] == num2:\n",
    "                return [i,j]"
   ]
  },
  {
   "cell_type": "markdown",
   "metadata": {},
   "source": [
    "#### Soluation 2 -----Hash Map \n",
    "哈希表，每遍历到一个元素num，看target-num是否在hash表中，如果在就得出答案，如果不在就将当前num放入哈希表中\n",
    "\n",
    "1. Create a hashmap which accepts integer datatype as key and value.\n",
    "\n",
    "2. Iterate through each element in the given array starting from the first element.\n",
    "\n",
    "3. In each iteration check if required number (required  number = target sum - current number) is present in the hashmap.\n",
    "\n",
    "4. If present, return {required number index, current number index} as  result.\n",
    "\n",
    "5. Otherwise add the current iteration number as key and its index as value to the hashmap. Repeat this  until you find the result.\n",
    "\n",
    "reference: https://www.code-recipe.com/post/two-sum\n",
    "\n",
    "\n",
    "@ TC: O(n) ----- only loop one time through input list\n",
    "\n",
    "@ SC: O(n) ----- need extra O(n) space for the hash map\n",
    "\n"
   ]
  },
  {
   "cell_type": "code",
   "execution_count": null,
   "metadata": {},
   "outputs": [],
   "source": [
    "def twoSum(nums, target):\n",
    "    seen = {}      # create the hash map to save the seen number : index\n",
    "    for i, num1 in enumerate(nums):\n",
    "        num2 = target - num1\n",
    "        if num2 in seen:  \n",
    "            return [i,seen[num2]]\n",
    "        else:\n",
    "            seen[num1] = i"
   ]
  },
  {
   "cell_type": "code",
   "execution_count": null,
   "metadata": {},
   "outputs": [],
   "source": []
  },
  {
   "cell_type": "markdown",
   "metadata": {},
   "source": [
    "### 121. Best Time to Buy and Sell Stock (E)\n"
   ]
  },
  {
   "cell_type": "code",
   "execution_count": null,
   "metadata": {},
   "outputs": [],
   "source": []
  },
  {
   "cell_type": "code",
   "execution_count": null,
   "metadata": {},
   "outputs": [],
   "source": [
    "#### Soluation 1 ----- Brute Force \n",
    "内外两个循环找和为target的两个数字\n",
    "\n",
    "@ TC: O(n^2)  \n",
    "@ SC: O(1)\n",
    "\n",
    "Note:\n",
    "time limit exceeded\n"
   ]
  },
  {
   "cell_type": "code",
   "execution_count": null,
   "metadata": {},
   "outputs": [],
   "source": []
  },
  {
   "cell_type": "code",
   "execution_count": null,
   "metadata": {},
   "outputs": [],
   "source": []
  },
  {
   "cell_type": "code",
   "execution_count": null,
   "metadata": {},
   "outputs": [],
   "source": []
  },
  {
   "cell_type": "code",
   "execution_count": null,
   "metadata": {},
   "outputs": [],
   "source": []
  }
 ],
 "metadata": {
  "kernelspec": {
   "display_name": "Python 3",
   "language": "python",
   "name": "python3"
  },
  "language_info": {
   "codemirror_mode": {
    "name": "ipython",
    "version": 3
   },
   "file_extension": ".py",
   "mimetype": "text/x-python",
   "name": "python",
   "nbconvert_exporter": "python",
   "pygments_lexer": "ipython3",
   "version": "3.8.3"
  },
  "latex_envs": {
   "LaTeX_envs_menu_present": true,
   "autoclose": false,
   "autocomplete": true,
   "bibliofile": "biblio.bib",
   "cite_by": "apalike",
   "current_citInitial": 1,
   "eqLabelWithNumbers": true,
   "eqNumInitial": 1,
   "hotkeys": {
    "equation": "Ctrl-E",
    "itemize": "Ctrl-I"
   },
   "labels_anchors": false,
   "latex_user_defs": false,
   "report_style_numbering": false,
   "user_envs_cfg": false
  },
  "toc": {
   "base_numbering": 1,
   "nav_menu": {},
   "number_sections": false,
   "sideBar": true,
   "skip_h1_title": false,
   "title_cell": "Table of Contents",
   "title_sidebar": "Contents",
   "toc_cell": false,
   "toc_position": {
    "height": "calc(100% - 180px)",
    "left": "10px",
    "top": "150px",
    "width": "236.475px"
   },
   "toc_section_display": true,
   "toc_window_display": true
  }
 },
 "nbformat": 4,
 "nbformat_minor": 4
}
