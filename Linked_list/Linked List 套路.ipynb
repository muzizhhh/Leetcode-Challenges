{
 "cells": [
  {
   "cell_type": "markdown",
   "metadata": {},
   "source": [
    "### Array vs.Linked List\n",
    "Array: 通过index访问各个元素 --> O(1)  <br>\n",
    "\n",
    "数组由于是紧凑连续存储,可以随机访问，通过索引快速找到对应元素，而且相对节约存储空间。但正因为连续存储，内存空间必须一次性分配够，所以说数组如果要扩容，需要重新分配一块更大的空间，再把数据全部复制过去，时间复杂度 O(N)；而且你如果想在数组中间进行插入和删除，每次必须搬移后面的所有数据以保持连续，时间复杂度 O(N)。<br>\n",
    "\n",
    "\n",
    "Linked List: 指针之间有指针链接，访问需要挨个元素-->O(n) <br>\n",
    "            \n",
    "因为元素不连续，而是靠指针指向下一个元素的位置，所以不存在数组的扩容问题；如果知道某一元素的前驱和后驱，操作指针即可删除该元素或者插入新元素，时间复杂度 O(1)。但是正因为存储空间不连续，你无法根据一个索引算出对应元素的地址，所以不能随机访问；而且由于每个元素必须存储指向前后元素位置的指针，会消耗相对更多的储存空间。<br>"
   ]
  },
  {
   "cell_type": "markdown",
   "metadata": {},
   "source": [
    "### 迭代(iteration) vs. 递归(recursion)\n",
    "\n",
    "递归和迭代都是循环中的一种。\n",
    "\n",
    "简单地说，递归是重复调用函数自身实现循环。迭代是函数内某段代码实现循环，而迭代与普通循环的区别是：循环代码中参与运算的变量同时是保存结果的变量，当前保存的结果作为下一次循环计算的初始值。\n",
    "\n",
    "递归循环中，遇到满足终止条件的情况时逐层返回来结束。迭代则使用计数器结束循环。当然很多情况都是多种循环混合采用，这要根据具体需求。\n",
    "\n",
    "使用递归要注意的有两点:\n",
    "\n",
    "1)递归就是在过程或函数里面调用自身;\n",
    "2)在使用递归时,必须有一个明确的递归结束条件,称为递归出口.\n",
    "\n",
    "递归分为两个阶段:\n",
    "\n",
    "1)递推:把复杂的问题的求解推到比原问题简单一些的问题的求解;\n",
    "2)回归:当获得最简单的情况后,逐步返回,依次得到复杂的解.\n",
    "\n",
    "递归和迭代的空间利用率\n",
    "\n",
    "迭代是逐渐逼近，用新值覆盖旧值，直到满足条件后结束，不保存中间值，空间利用率高。\n",
    "递归是将一个问题分解为若干相对小一点的问题，遇到递归出口再原路返回，因此必须保存相关的中间值，这些中间值压入栈保存，问题规模较大时会占用大量内存。\n",
    "\n",
    "\n",
    "利用递归可以解决很多问题:如背包问题，汉诺塔问题，斐波那契数列等\n",
    "迭代经典例子就是实数的累加，比如计算1-100所有实数的和。\n",
    "\n",
    "两者之间的关系：\n",
    "\n",
    "1） 递归中一定有迭代,但是迭代中不一定有递归,大部分可以相互转换。\n",
    "2） 能用迭代的不用递归,递归调用函数,计算有重复,浪费空间,并且递归太深容易造成堆栈的溢出."
   ]
  },
  {
   "cell_type": "markdown",
   "metadata": {},
   "source": [
    "###  <font color='blue'>876. Middle of the Linked List (E）</font> "
   ]
  },
  {
   "cell_type": "markdown",
   "metadata": {},
   "source": [
    "##### two pointers \n",
    "same direction <br> \n",
    "j--> two steps; i--> two step, when j out of bound, i is the middle point since the speed of j is 2x faster than i. <br>\n",
    "O(n) and O(1)"
   ]
  },
  {
   "cell_type": "code",
   "execution_count": 2,
   "metadata": {},
   "outputs": [],
   "source": [
    "# Definition for singly-linked list.\n",
    "# class ListNode(object):\n",
    "#     def __init__(self, val=0, next=None):\n",
    "#         self.val = val\n",
    "#         self.next = next\n",
    "class Solution(object):\n",
    "    def middleNode(self, head):\n",
    "        i = j = head\n",
    "        while j and j.next:\n",
    "            i = i.next\n",
    "            j = j.next.next\n",
    "        return i"
   ]
  },
  {
   "cell_type": "markdown",
   "metadata": {},
   "source": [
    "###  <font color='blue'>21. Merge Two Sorted Lists (E）</font> \n",
    "O(n+m) & O(1) 我们只需要常数的空间存放若干变量。"
   ]
  },
  {
   "cell_type": "code",
   "execution_count": null,
   "metadata": {},
   "outputs": [],
   "source": [
    "# Definition for singly-linked list.\n",
    "# class ListNode(object):\n",
    "#     def __init__(self, val=0, next=None):\n",
    "#         self.val = val\n",
    "#         self.next = next\n",
    "class Solution(object):\n",
    "    def mergeTwoLists(self, list1, list2):\n",
    "        \n",
    "        # dummy head\n",
    "        dummy = ListNode(-1)\n",
    "        p = dummy\n",
    "\n",
    "        # two pointers, put smaller value into dummy pointer\n",
    "        p1, p2 = list1, list2\n",
    "\n",
    "        while p1 != None and p2 != None:\n",
    "            if p1.val < p2.val:\n",
    "                p.next = p1\n",
    "                p1 = p1.next\n",
    "            else:\n",
    "                p.next = p2\n",
    "                p2 = p2.next\n",
    "                \n",
    "            #dummy pointer keep going\n",
    "            p = p.next\n",
    "\n",
    "        if p1 == None:\n",
    "            p.next = p2\n",
    "        if p2 == None:\n",
    "            p.next = p1\n",
    "            \n",
    "        return dummy.next"
   ]
  },
  {
   "cell_type": "code",
   "execution_count": null,
   "metadata": {},
   "outputs": [],
   "source": []
  }
 ],
 "metadata": {
  "kernelspec": {
   "display_name": "Python 3",
   "language": "python",
   "name": "python3"
  },
  "language_info": {
   "codemirror_mode": {
    "name": "ipython",
    "version": 3
   },
   "file_extension": ".py",
   "mimetype": "text/x-python",
   "name": "python",
   "nbconvert_exporter": "python",
   "pygments_lexer": "ipython3",
   "version": "3.7.3"
  },
  "latex_envs": {
   "LaTeX_envs_menu_present": true,
   "autoclose": false,
   "autocomplete": true,
   "bibliofile": "biblio.bib",
   "cite_by": "apalike",
   "current_citInitial": 1,
   "eqLabelWithNumbers": true,
   "eqNumInitial": 1,
   "hotkeys": {
    "equation": "Ctrl-E",
    "itemize": "Ctrl-I"
   },
   "labels_anchors": false,
   "latex_user_defs": false,
   "report_style_numbering": false,
   "user_envs_cfg": false
  },
  "toc": {
   "base_numbering": 1,
   "nav_menu": {
    "height": "204px",
    "width": "268px"
   },
   "number_sections": false,
   "sideBar": true,
   "skip_h1_title": false,
   "title_cell": "Table of Contents",
   "title_sidebar": "Contents",
   "toc_cell": false,
   "toc_position": {
    "height": "calc(100% - 180px)",
    "left": "10px",
    "top": "150px",
    "width": "266px"
   },
   "toc_section_display": true,
   "toc_window_display": true
  }
 },
 "nbformat": 4,
 "nbformat_minor": 2
}
