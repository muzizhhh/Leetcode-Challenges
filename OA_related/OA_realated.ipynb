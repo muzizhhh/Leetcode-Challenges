{
 "cells": [
  {
   "cell_type": "markdown",
   "metadata": {},
   "source": [
    "#### 1. 给一个str, 要求是 vowel 和其他 字母间隔排列(ABABAB形式), 符合要求的返回-1, 不符合的返回违反这个要求的第一个char的index。\n",
    "(string 类别）"
   ]
  },
  {
   "cell_type": "markdown",
   "metadata": {},
   "source": [
    "#### 2. 给一串bus的时间和现在时刻，格式如“12:40”。要求是找出与下一班bus的间隔时间，如果没有可乘坐的则返回-1. \n",
    "(全部换算成分钟）"
   ]
  },
  {
   "cell_type": "markdown",
   "metadata": {},
   "source": []
  },
  {
   "cell_type": "code",
   "execution_count": null,
   "metadata": {},
   "outputs": [],
   "source": [
    "schedule= [\"12:00\", \"17:50\", \"11:50\"]\n",
    "time = \"14:30\"\n",
    "\n",
    "def bus_schedule(schedule,time):\n",
    "    time = int(time.split(\":\")[0])*60 + int(time.split(\":\")[1])\n",
    "    for s in range(len(schedule)):\n",
    "        bus_time = int(schedule[s].split(\":\")[0])*60 + int(schedule[s].split(\":\")[1]) \n",
    "        if bus_time >= time:\n",
    "            diff = str(int((bus_time-time)/60)) + \":\" + str((bus_time-time)%60)\n",
    "            return diff\n",
    "        if s == len(schedule)-1:\n",
    "            if bus_time < time:\n",
    "                return -1\n",
    "            \n",
    "\n",
    "    \n",
    "bus_schedule(schedule,time)    "
   ]
  },
  {
   "cell_type": "markdown",
   "metadata": {},
   "source": [
    "# *shapeArea\n",
    "Below we will define an n-interesting polygon. Your task is to find the area of a polygon for a given n. A 1-interesting polygon is just a square with a side of length 1. An n-interesting polygon is obtained by taking the n - 1-interesting polygon and appending 1-interesting polygons to its rim, side by side. You can see the 1-, 2-, 3- and 4-interesting polygons in the picture below.\n",
    "https://stackoverflow.com/questions/49270277/find-the-area-of-an-n-interesting-polygon\n",
    "    "
   ]
  },
  {
   "cell_type": "markdown",
   "metadata": {},
   "source": [
    "# *almostIncreasing Sequence\n",
    "\n",
    "Given a sequence of integers as an array, determine whether it is possible to obtain a strictly increasing sequence by removing no more than one element from the array.\n",
    "\n",
    "Note: sequence a0, a1, ..., an is considered to be a strictly increasing if a0 < a1 < ... < an. Sequence containing only one element is also considered to be strictly increasing.\n",
    "\n",
    "Solution ref https://www.youtube.com/watch?v=BeNi-yDujsk"
   ]
  },
  {
   "cell_type": "code",
   "execution_count": null,
   "metadata": {},
   "outputs": [],
   "source": [
    "def solution(sequence):\n",
    "    def find_bad_pair(sequence):\n",
    "        for i in range(len(sequence)-1):\n",
    "            if sequence[i] >= sequence[i+1]:      #[3,1] bad pair\n",
    "                return i                          # start index of the the bad pair\n",
    "        return -1                                 # no bad pair\n",
    "    \n",
    "    index = find_bad_pair(sequence)    \n",
    "    if index == -1:                        # if no bad pair detected\n",
    "        return True\n",
    "    # if the sequence has bad pair, remove either of the element from the bad pair and check the rest of the        sequence again to see if there is a bad pair, if it has return False, if not return True.    \n",
    "    if find_bad_pair(sequence[:index]+sequence[index+1:]) == -1:   #remove first element of the bad pair\n",
    "        return True\n",
    "    if find_bad_pair(sequence[:index+1]+sequence[index+2:]) == -1: # remove second element of the bad pair\n",
    "        return True\n",
    "    return False\n",
    "\n",
    "\n",
    "solution([10, 1, 3, 2, 1])             "
   ]
  },
  {
   "cell_type": "markdown",
   "metadata": {},
   "source": [
    "# *matrixElementsSum\n",
    "After becoming famous, the CodeBots decided to move into a new building together. Each of the rooms has a different cost, and some of them are free, but there's a rumour that all the free rooms are haunted! Since the CodeBots are quite superstitious, they refuse to stay in any of the free rooms, or any of the rooms below any of the free rooms.\n",
    "\n",
    "Given matrix, a rectangular matrix of integers, where each value represents the cost of the room, your task is to return the total sum of all rooms that are suitable for the CodeBots (ie: add up all the values that don't appear below a 0)."
   ]
  },
  {
   "cell_type": "code",
   "execution_count": null,
   "metadata": {},
   "outputs": [],
   "source": [
    "def solution(matrix):\n",
    "    result = 0\n",
    "    cols = [i for i in range(0,len(matrix[0]))]\n",
    "    \n",
    "    for row in range(len(matrix)):\n",
    "        for col in list(cols):                # copy of the removed list (important)\n",
    "            if matrix[row][col] != 0:\n",
    "                result += matrix[row][col]\n",
    "            if matrix[row][col] == 0:\n",
    "                cols.remove(col)     # remian the rest qualified columns                    \n",
    "    return result"
   ]
  },
  {
   "cell_type": "markdown",
   "metadata": {},
   "source": [
    "Important: When we delete an element from a list using the remove() function in Python, it changes the remaining elements’ indexing. So if we are iterating over a list and we deleted an element from it while iterating over it, it will cause iterator invalidation and give unexpected results. Let’s understand by an example, \n",
    "\n",
    "Therefore while deleting an element from the list while iterating, we need to make sure that we are iterating over the copy and removing elements from the original list to avoid iterator invalidation.\n",
    "\n",
    "ref: https://thispointer.com/python-remove-elements-from-a-list-while-iterating/"
   ]
  },
  {
   "cell_type": "markdown",
   "metadata": {},
   "source": [
    "# All Longest Strings\n",
    "Given an array of strings, return another array containing all of its longest strings.\n",
    "eg:\n",
    "For inputArray = [\"aba\", \"aa\", \"ad\", \"vcd\", \"aba\"], the output should be\n",
    "solution(inputArray) = [\"aba\", \"vcd\", \"aba\"]."
   ]
  },
  {
   "cell_type": "code",
   "execution_count": null,
   "metadata": {},
   "outputs": [],
   "source": [
    "def solution(inputArray):\n",
    "    result = []\n",
    "    l = 0\n",
    "    for i in range(len(inputArray)):\n",
    "        length = len(inputArray[i])\n",
    "        if length > l:\n",
    "            result = []\n",
    "            result.append(inputArray[i])\n",
    "            l = length\n",
    "        elif length == l:\n",
    "            result.append(inputArray[i])\n",
    "    return result"
   ]
  },
  {
   "cell_type": "markdown",
   "metadata": {},
   "source": [
    "# commonCharacterCount\n",
    "Given two strings, find the number of common characters between them.\n",
    "\n",
    "Example\n",
    "\n",
    "For s1 = \"aabcc\" and s2 = \"adcaa\", the output should be\n",
    "solution(s1, s2) = 3.\n",
    "\n",
    "Strings have 3 common characters - 2 \"a\"s and 1 \"c\"."
   ]
  },
  {
   "cell_type": "code",
   "execution_count": null,
   "metadata": {},
   "outputs": [],
   "source": [
    "def solution(s1, s2):\n",
    "    l1,l2 = [l1 for l1 in s1],  [l2 for l2 in s2]\n",
    "    if len(l1) <= len(l2):\n",
    "        list_base, list_comp = l1,l2\n",
    "    else:\n",
    "        list_base, list_comp  = l2,l1\n",
    "    \n",
    "    result = 0\n",
    "    for base in list_base:\n",
    "        for comp in list_comp:\n",
    "            if base == comp:\n",
    "                result += 1\n",
    "                list_comp.remove(comp)\n",
    "                break\n",
    "        continue\n",
    "    return result\n",
    "        "
   ]
  },
  {
   "cell_type": "markdown",
   "metadata": {},
   "source": [
    "# isLucky\n",
    "Ticket numbers usually consist of an even number of digits. A ticket number is considered lucky if the sum of the first half of the digits is equal to the sum of the second half.\n",
    "\n",
    "Given a ticket number n, determine if it's lucky or not.\n",
    "\n",
    "Example\n",
    "\n",
    "For n = 1230, the output should be\n",
    "solution(n) = true;\n",
    "For n = 239017, the output should be\n",
    "solution(n) = false.\n",
    "\n",
    "Input/Output\n",
    "\n",
    "[execution time limit] 4 seconds (py3)\n",
    "\n",
    "[input] integer n\n",
    "\n",
    "A ticket number represented as a positive integer with an even number of digits.\n",
    "\n",
    "Guaranteed constraints:\n",
    "10 ≤ n < 106.\n",
    "\n",
    "[output] boolean\n",
    "\n",
    "true if n is a lucky ticket number, false otherwise."
   ]
  },
  {
   "cell_type": "code",
   "execution_count": null,
   "metadata": {},
   "outputs": [],
   "source": [
    "def solution(n):\n",
    "    n = [int(i) for i in str(n)]   # convert the number to list, make sure integer\n",
    "    mid = int(len(n)/2)    # make sure the slice num is int\n",
    "    \n",
    "    first_half = sum(n[:mid]) \n",
    "    second_half = sum(n[mid:])\n",
    "    \n",
    "    if first_half == second_half:\n",
    "        return True\n",
    "    else:\n",
    "        return False"
   ]
  },
  {
   "cell_type": "markdown",
   "metadata": {},
   "source": [
    "# Sort by Height\n",
    "Some people are standing in a row in a park. There are trees between them which cannot be moved. Your task is to rearrange the people by their heights in a non-descending order without moving the trees. People can be very tall!\n",
    "\n",
    "Example\n",
    "\n",
    "For a = [-1, 150, 190, 170, -1, -1, 160, 180], the output should be\n",
    "solution(a) = [-1, 150, 160, 170, -1, -1, 180, 190]."
   ]
  },
  {
   "cell_type": "code",
   "execution_count": null,
   "metadata": {},
   "outputs": [],
   "source": [
    "def solution(a):\n",
    "    height = []\n",
    "    for h in a:\n",
    "        if h >= 1:\n",
    "            height.append(h)\n",
    "    sorted_height = sorted(height)\n",
    "    \n",
    "    result = []\n",
    "    for i in range(len(a)):\n",
    "        if a[i] >= 1:\n",
    "            result.append(sorted_height.pop(0))      # pop the leftmost element\n",
    "        else:\n",
    "            result.append(a[i])\n",
    "    return result"
   ]
  },
  {
   "cell_type": "markdown",
   "metadata": {},
   "source": [
    "<font color=blue size=2> **ReverseInParentheses（leetcode1190)** </font>  \n",
    "Write a function that reverses characters in (possibly nested) parentheses in the input string.   Input strings will always be well-formed with matching ()s.  \n",
    "\n",
    "**Example**  \n",
    "For inputString = \"(bar)\", the output should be solution(inputString) = \"rab\";  \n",
    "For inputString = \"foo(bar)baz\", the output should be solution(inputString) = \"foorabbaz\";  \n",
    "For inputString = \"foo(bar)baz(blim)\", the output should be solution(inputString) = \"foorabbazmilb\";  \n",
    "For inputString = \"foo(bar(baz))blim\", the output should be solution(inputString) = \"foobazrabblim\". Because \"foo(bar(baz))blim\" becomes \"foo(barzab)blim\" and then \"foobazrabblim\".  \n",
    "##### solution ref: <https://www.youtube.com/watch?v=catkcEE2Wsk&t=5s>  "
   ]
  },
  {
   "cell_type": "markdown",
   "metadata": {},
   "source": []
  },
  {
   "cell_type": "code",
   "execution_count": null,
   "metadata": {},
   "outputs": [],
   "source": [
    "def solution(inputString):\n",
    "\n",
    "    chars = list(inputString) \n",
    "    open_bracket = []\n",
    "    for i, c in enumerate(chars):\n",
    "        if c == \"(\":   \n",
    "            open_bracket.append(i)     # save open bracket index\n",
    "        if c == \")\":\n",
    "            j = open_bracket.pop()\n",
    "            chars[j+1:i] = chars[i-1:j:-1]   # FILO\n",
    "\n",
    "    return \"\".join(c for c in chars if c not in \"()\")    \n"
   ]
  },
  {
   "cell_type": "markdown",
   "metadata": {},
   "source": [
    "<font color=blue size=2> **迭代器 iterator** <font>"
   ]
  },
  {
   "cell_type": "code",
   "execution_count": 3,
   "metadata": {},
   "outputs": [],
   "source": [
    "class Iteratorprocessor():\n",
    "    @staticmethod\n",
    "\n",
    "    def apply(generator,filters):\n",
    "        result = 0\n",
    "        try:\n",
    "            for s_filter in filters:\n",
    "                s_filter = list(s_filter)\n",
    "                \n",
    "                g = next(generator)\n",
    "                f = s_filter.pop(0)\n",
    "                \n",
    "                if f:\n",
    "                    result += g\n",
    "                    print(f,g)\n",
    "\n",
    "        except StopIteration:\n",
    "            print(\"no more filter in filters\")\n",
    "        return result"
   ]
  },
  {
   "cell_type": "code",
   "execution_count": 6,
   "metadata": {},
   "outputs": [
    {
     "name": "stdout",
     "output_type": "stream",
     "text": [
      "[<generator object filters.<locals>.s_filter at 0x000002219B4FAB10>, <generator object filters.<locals>.s_filter at 0x000002219B4FAB88>, <generator object filters.<locals>.s_filter at 0x000002219B4FAC78>, <generator object filters.<locals>.s_filter at 0x000002219B4FACF0>, <generator object filters.<locals>.s_filter at 0x00000221989A1840>, <generator object filters.<locals>.s_filter at 0x00000221989A1660>, <generator object filters.<locals>.s_filter at 0x00000221989A17C8>, <generator object filters.<locals>.s_filter at 0x00000221989A1750>, <generator object filters.<locals>.s_filter at 0x00000221989A1570>, <generator object filters.<locals>.s_filter at 0x000002219ADBE6D8>]\n",
      "<generator object filters.<locals>.s_filter at 0x000002219B4FAB10> 0\n",
      "<generator object filters.<locals>.s_filter at 0x000002219B4FAB10> 1\n",
      "<generator object filters.<locals>.s_filter at 0x000002219B4FAB10> 2\n",
      "<generator object filters.<locals>.s_filter at 0x000002219B4FAB10> 3\n",
      "<generator object filters.<locals>.s_filter at 0x000002219B4FAB10> 4\n",
      "<generator object filters.<locals>.s_filter at 0x000002219B4FAB10> 5\n",
      "<generator object filters.<locals>.s_filter at 0x000002219B4FAB10> 6\n",
      "<generator object filters.<locals>.s_filter at 0x000002219B4FAB10> 7\n",
      "<generator object filters.<locals>.s_filter at 0x000002219B4FAB10> 8\n",
      "<generator object filters.<locals>.s_filter at 0x000002219B4FAB10> 9\n"
     ]
    },
    {
     "data": {
      "text/plain": [
       "45"
      ]
     },
     "execution_count": 6,
     "metadata": {},
     "output_type": "execute_result"
    }
   ],
   "source": [
    "def generator():\n",
    "    for i in range(110):\n",
    "        yield i\n",
    "\n",
    "def filters():\n",
    "    lst = []\n",
    "    for _ in range(10):\n",
    "        def s_filter():\n",
    "            for i in [True,False,True,False,False,True,True,False,True,False,False,True]:\n",
    "                yield i\n",
    "        lst.append(s_filter())\n",
    "    return lst\n",
    "    \n",
    "filters = filters()\n",
    "filters = list(filters)\n",
    "generator = generator()\n",
    "cls = Iteratorprocessor()\n",
    "cls.apply(generator, filters)\n",
    "\n",
    "\n"
   ]
  },
  {
   "cell_type": "markdown",
   "metadata": {},
   "source": [
    "<font color=blue size=2> **Pinterest__matrix** <font>"
   ]
  },
  {
   "cell_type": "code",
   "execution_count": 8,
   "metadata": {},
   "outputs": [
    {
     "name": "stdout",
     "output_type": "stream",
     "text": [
      "   0  1  2\n",
      "0  1  2  3\n",
      "1  3  1  1\n",
      "2  5  6  5\n",
      "          0        1         2\n",
      "0 -1.224745 -0.46291  0.000000\n",
      "1  0.000000 -0.92582 -1.224745\n",
      "2  1.224745  1.38873  1.224745\n"
     ]
    }
   ],
   "source": [
    "dataset = [[1, 2, 0],\n",
    "           [0, 1, 1],\n",
    "           [5, 6, 5]]\n",
    "#           [5, 6, 5]]\n",
    "\n",
    "import numpy as np\n",
    "import pandas as pd\n",
    "\n",
    "df = pd.DataFrame(dataset)\n",
    "df2 = df.replace(0,np.nan)\n",
    "df2 = df2.mean(axis=0,skipna=True)\n",
    "\n",
    "row,col = df.shape[0],df.shape[1]\n",
    "for r in range(row):\n",
    "    for c in range(col):\n",
    "        if df.iat[r,c] == 0:\n",
    "            df.iat[r,c] = list(df2).pop(0)\n",
    "\n",
    "c_mean = list(df.mean(axis=0))\n",
    "c_std = list(df.std(axis=0,ddof=0))\n",
    "print(df)\n",
    "            \n",
    "\n",
    "df_normed = (df - df.mean(axis=0)) / df.std(axis=0,ddof=0)\n",
    "print(df_normed)\n"
   ]
  },
  {
   "cell_type": "code",
   "execution_count": 28,
   "metadata": {},
   "outputs": [
    {
     "name": "stdout",
     "output_type": "stream",
     "text": [
      "l\n",
      "le\n",
      "let\n",
      "letter\n"
     ]
    }
   ],
   "source": [
    "lists = [\"g>r\", \"r>e\", \"e>a\", \"a>t\"]  #great [l>e,e>t,t>e,e>r]\n",
    "lists = [\"l>e\", \"e>t\", \"t>t\", \"t>e\", \"e>r\"]  #letter\n",
    "output = \"\"\n",
    "\n",
    "for i in range(len(lists)-1):\n",
    "    last = lists[i][2]\n",
    "    first = lists[i][0]\n",
    "    next_first = lists[i+1][0]\n",
    "    if next_first == last:\n",
    "        output += first\n",
    "        \n",
    "        if i == len(lists)-2:\n",
    "            output += last\n",
    "            output += lists[i+1][-1] \n",
    "        print(output)    \n",
    "        \n",
    "           \n",
    "    "
   ]
  }
 ],
 "metadata": {
  "kernelspec": {
   "display_name": "Python 3",
   "language": "python",
   "name": "python3"
  },
  "language_info": {
   "codemirror_mode": {
    "name": "ipython",
    "version": 3
   },
   "file_extension": ".py",
   "mimetype": "text/x-python",
   "name": "python",
   "nbconvert_exporter": "python",
   "pygments_lexer": "ipython3",
   "version": "3.8.3"
  },
  "latex_envs": {
   "LaTeX_envs_menu_present": true,
   "autoclose": false,
   "autocomplete": true,
   "bibliofile": "biblio.bib",
   "cite_by": "apalike",
   "current_citInitial": 1,
   "eqLabelWithNumbers": true,
   "eqNumInitial": 1,
   "hotkeys": {
    "equation": "Ctrl-E",
    "itemize": "Ctrl-I"
   },
   "labels_anchors": false,
   "latex_user_defs": false,
   "report_style_numbering": false,
   "user_envs_cfg": false
  },
  "toc": {
   "base_numbering": 1,
   "nav_menu": {},
   "number_sections": true,
   "sideBar": true,
   "skip_h1_title": false,
   "title_cell": "Table of Contents",
   "title_sidebar": "Contents",
   "toc_cell": false,
   "toc_position": {},
   "toc_section_display": true,
   "toc_window_display": true
  }
 },
 "nbformat": 4,
 "nbformat_minor": 4
}
