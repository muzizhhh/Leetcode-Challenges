{
 "cells": [
  {
   "cell_type": "markdown",
   "metadata": {},
   "source": [
    "### 什么时候使用单调栈(Monotonic)？\n",
    "通常是一维数组，要寻找任一元素右边（左边）第一个比自己大（小）的元素，且要求 O(n) 的时间复杂度。"
   ]
  },
  {
   "cell_type": "markdown",
   "metadata": {},
   "source": [
    "### 原理&特点：\n",
    "- 先进后出，后进先出 \n",
    "- 每次新元素入栈后，栈内的元素都保持有序（单调递增或单调递减）\n",
    "- 单调栈用途不太广泛，只处理一种典型的问题，叫做 Next Greater Element\n",
    "- 单调递增栈：从 栈底 到 栈顶 递增，栈顶大\n",
    "- 单调递减栈：从 栈底 到 栈顶 递减，栈顶小"
   ]
  },
  {
   "cell_type": "markdown",
   "metadata": {},
   "source": [
    "### 模板 (backward） \n",
    "#### 当前项向右找第一个比自己大的位置 —— 从右向左维护一个单调递减栈。(栈顶最大）"
   ]
  },
  {
   "cell_type": "markdown",
   "metadata": {},
   "source": [
    "可以把数组元素想象成并列站立得人，元素大小想象成人的身高。这些人面对你站成一列，如何求元素的 Next Greater Number 呢？很简单，如果能够看到当前元素，那么他后面可见的第一个人就是Next Greater Number，因为比当前元素小的元素身高不够，都被当前元素挡住了，第一个露出来的就是答案。\n",
    "\n",
    "- 遍历nums,从右往左 \n",
    "- 如stack空，放num \n",
    "- stack非空，如stack top比num大(=栈顶是下一个能看见得最大数），栈顶放入res\n",
    "- stack非空，如果stack top比num小（=num之后更小，要继续往后找比num大的），栈顶pop (while loop)\n",
    "\n",
    "总共有 n 个元素，每个元素都被 push 入栈了一次，而最多会被 pop 一次，没有任何冗余操作。所以总的计算规模是和元素规模 n 成正比的，也就是 O(n) 的复杂度。"
   ]
  },
  {
   "cell_type": "code",
   "execution_count": 9,
   "metadata": {},
   "outputs": [
    {
     "name": "stdout",
     "output_type": "stream",
     "text": [
      "[2, 1, 2, 4, 3] --> [4, 2, 4, -1, -1]\n"
     ]
    }
   ],
   "source": [
    "def nextGreaterElement_01(nums:list):\n",
    "    length = len(nums)\n",
    "    res, stack = [-1]*length, []\n",
    "    \n",
    "    for i in range(length-1,-1,-1):\n",
    "        while stack and stack[-1] <= nums[i]:   #矮个起开，反正也被挡着了。。。\n",
    "            stack.pop()  \n",
    "        if stack:\n",
    "            res[i] = stack[-1]                  # nums[i] 身后的 next great number   \n",
    "        stack.append(nums[i])\n",
    "    return res \n",
    "\n",
    "nums = [2,1,2,4,3]\n",
    "ans = nextGreaterElement_01(nums)\n",
    "print(nums,\"-->\",ans)"
   ]
  },
  {
   "cell_type": "markdown",
   "metadata": {},
   "source": [
    "### 模板 (forward）???? \n",
    "#### 从左向左维护一个单调递增栈 (栈顶最小）"
   ]
  },
  {
   "cell_type": "markdown",
   "metadata": {},
   "source": [
    "### 参考links\n",
    "- 面试刷题必会：单调栈python模板套路（附用法例题详解）https://blog.csdn.net/weixin_44414948/article/details/114385843\n",
    "- labuladong 如何使用单调栈解题 https://github.com/labuladong/fucking-algorithm/blob/master/%E6%95%B0%E6%8D%AE%E7%BB%93%E6%9E%84%E7%B3%BB%E5%88%97/%E5%8D%95%E8%B0%83%E6%A0%88.md"
   ]
  },
  {
   "cell_type": "markdown",
   "metadata": {},
   "source": [
    "### 例题"
   ]
  },
  {
   "cell_type": "markdown",
   "metadata": {},
   "source": [
    "####  <font color='blue'>496. Next Greater Element I (E）</font> "
   ]
  },
  {
   "cell_type": "markdown",
   "metadata": {},
   "source": [
    "模板 + nums2找到对应得nums1即可 <br>\n",
    "O(n) & O(n)"
   ]
  },
  {
   "cell_type": "code",
   "execution_count": null,
   "metadata": {},
   "outputs": [],
   "source": [
    "class Solution(object):\n",
    "    def nextGreaterElement(self, nums1, nums2):\n",
    "        length = len(nums2)\n",
    "        res, stack = [-1] * length, []\n",
    "        ans = []\n",
    "        for i in range(length-1, -1,-1):\n",
    "            while stack and stack[-1] <= nums2[i]:\n",
    "                stack.pop()\n",
    "            if stack:\n",
    "                res[i] = stack[-1]\n",
    "            stack.append(nums2[i])\n",
    "            \n",
    "        return [res[nums2.index(num)] for num in nums1]"
   ]
  },
  {
   "cell_type": "markdown",
   "metadata": {},
   "source": [
    "####  <font color='blue'>739. Daily Temperatures(M)</font> "
   ]
  },
  {
   "cell_type": "markdown",
   "metadata": {},
   "source": [
    "##### *Stack\n",
    "template -> stack with pair: [(nums[i],index), .... ] <br>\n",
    "O(n) & O(n)"
   ]
  },
  {
   "cell_type": "code",
   "execution_count": 15,
   "metadata": {},
   "outputs": [],
   "source": [
    "class Solution(object):\n",
    "    def dailyTemperatures(self, temperatures):\n",
    "        length = len(temperatures)\n",
    "        res, stack = [0] * length , []\n",
    "        \n",
    "        for i in range(length-1, -1, -1):\n",
    "            while stack and stack[-1][0] <= temperatures[i]:\n",
    "                stack.pop()\n",
    "            if stack: \n",
    "                res[i] = stack[-1][1] - i\n",
    "            \n",
    "            stack.append((temperatures[i],i))\n",
    "        \n",
    "        return res\n",
    "                "
   ]
  },
  {
   "cell_type": "markdown",
   "metadata": {},
   "source": [
    "##### *Optimized Array\n",
    "- \"hottest\" 变量记录最热的一天\n",
    "- temperatures从右往左遍历\n",
    "- 如current temp > hottest变量，更新hottest（随着倒序，hottest不停更新）\n",
    "- 如current temp <= hottest变量，设置days变量=1（从current之后的一天开始找）\n",
    "- 如temperatures[current index + days]比如days=1下一天比current温度高, res[current index] = days (=1)\n",
    "- ---------------------------------------------------------------------------------------------低，在res找到下一天（低温）的days(=下一天距离hottest的days) <br>\n",
    "  -->days=1 + 下一天距离hottest的days <br>\n",
    "  --> while loop 再次检查temperatures[current index+days] 那天是不是比当天热，如果是跳出while loop，res[current index] = days\n",
    "  \n",
    "\n",
    "\n",
    "O(n) & O(1) <br> \n",
    "for space complexity: even 'res' does use O(N) space, the space used for the output does not count towards the space complexity. Thus, only constant extra space is used."
   ]
  },
  {
   "cell_type": "code",
   "execution_count": 27,
   "metadata": {},
   "outputs": [],
   "source": [
    "class Solution(object):\n",
    "    def dailyTemperatures(self, temperatures):\n",
    "        length = len(temperatures)\n",
    "        res = [0] * length\n",
    "        hottest = 0\n",
    "        \n",
    "        for i in range(length-1,-1,-1):\n",
    "            if temperatures[i] >= hottest:\n",
    "                hottest = temperatures[i]\n",
    "                continue                   # 跳出本次for loop, 或者也可以用if,else without continue\n",
    "                \n",
    "            days = 1\n",
    "            while temperatures[i + days] <= temperatures[i]:\n",
    "                days += res[i + days]\n",
    "\n",
    "            res[i] = days\n",
    "        return res"
   ]
  },
  {
   "cell_type": "markdown",
   "metadata": {},
   "source": [
    "##### Brute Force -- two loops\n",
    "O(n^2) & O(n)"
   ]
  },
  {
   "cell_type": "code",
   "execution_count": 19,
   "metadata": {},
   "outputs": [],
   "source": [
    "class Solution(object):\n",
    "    def dailyTemperatures(self, temperatures):\n",
    "\n",
    "        res = [0 for _ in range(len(temperatures))]\n",
    "        \n",
    "        for i in range(len(temperatures)-1):\n",
    "            for j in range(i+1, len(temperatures)):\n",
    "                if temperatures[j] > temperatures[i]:\n",
    "                    res[i] = j-i\n",
    "                    break \n",
    "        return res\n",
    "                    "
   ]
  },
  {
   "cell_type": "code",
   "execution_count": null,
   "metadata": {},
   "outputs": [],
   "source": []
  }
 ],
 "metadata": {
  "kernelspec": {
   "display_name": "Python 3",
   "language": "python",
   "name": "python3"
  },
  "language_info": {
   "codemirror_mode": {
    "name": "ipython",
    "version": 3
   },
   "file_extension": ".py",
   "mimetype": "text/x-python",
   "name": "python",
   "nbconvert_exporter": "python",
   "pygments_lexer": "ipython3",
   "version": "3.7.3"
  },
  "latex_envs": {
   "LaTeX_envs_menu_present": true,
   "autoclose": false,
   "autocomplete": true,
   "bibliofile": "biblio.bib",
   "cite_by": "apalike",
   "current_citInitial": 1,
   "eqLabelWithNumbers": true,
   "eqNumInitial": 1,
   "hotkeys": {
    "equation": "Ctrl-E",
    "itemize": "Ctrl-I"
   },
   "labels_anchors": false,
   "latex_user_defs": false,
   "report_style_numbering": false,
   "user_envs_cfg": false
  },
  "toc": {
   "base_numbering": 1,
   "nav_menu": {},
   "number_sections": false,
   "sideBar": true,
   "skip_h1_title": false,
   "title_cell": "Table of Contents",
   "title_sidebar": "Contents",
   "toc_cell": false,
   "toc_position": {},
   "toc_section_display": true,
   "toc_window_display": false
  }
 },
 "nbformat": 4,
 "nbformat_minor": 4
}
